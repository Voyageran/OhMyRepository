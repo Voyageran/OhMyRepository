{
 "cells": [
  {
   "cell_type": "markdown",
   "id": "5db6c606",
   "metadata": {},
   "source": [
    "# Numpy"
   ]
  },
  {
   "cell_type": "markdown",
   "id": "b90cd57c",
   "metadata": {},
   "source": [
    "## N 维数组对象： ndarray"
   ]
  },
  {
   "cell_type": "code",
   "execution_count": 3,
   "id": "4949c33b",
   "metadata": {},
   "outputs": [
    {
     "name": "stdout",
     "output_type": "stream",
     "text": [
      "[729, 513, 347, 225, 141]\n",
      "[729 513 347 225 141]\n"
     ]
    }
   ],
   "source": [
    "#python orig\n",
    "def pySum():\n",
    "    a = [0, 1, 2, 3, 4]\n",
    "    b = [9, 8, 7, 6, 5]\n",
    "    c = []\n",
    "    \n",
    "    for i in range(len(a)):\n",
    "        c.append(a[i]**2 + b[i]**3)\n",
    "        \n",
    "    return c\n",
    "\n",
    "print(pySum()) \n",
    "\n",
    "#numpy\n",
    "import numpy as np\n",
    "\n",
    "def npSum():\n",
    "    a = np.array([0, 1, 2, 3, 4])\n",
    "    b = np.array([9, 8, 7, 6, 5])\n",
    "    \n",
    "    c = a**2 + b**3\n",
    "    \n",
    "    return c\n",
    "\n",
    "print(npSum())"
   ]
  },
  {
   "cell_type": "markdown",
   "id": "a132f0b7",
   "metadata": {},
   "source": [
    "- 数组对象可以去掉元素间运算所需的循环，使一维向量更像单个数据\n",
    "- 设置专门的数组对象，经过优化，可以提升这类应用的运算速度"
   ]
  },
  {
   "cell_type": "code",
   "execution_count": 2,
   "id": "3380dfd1",
   "metadata": {},
   "outputs": [],
   "source": [
    "a = np.array([[0,1,2,3,4],\n",
    "             [9,8,7,6,5]])"
   ]
  },
  {
   "cell_type": "code",
   "execution_count": 3,
   "id": "03f6c8b3",
   "metadata": {},
   "outputs": [
    {
     "data": {
      "text/plain": [
       "2"
      ]
     },
     "execution_count": 3,
     "metadata": {},
     "output_type": "execute_result"
    }
   ],
   "source": [
    "a.ndim"
   ]
  },
  {
   "cell_type": "code",
   "execution_count": 4,
   "id": "d9169996",
   "metadata": {},
   "outputs": [
    {
     "data": {
      "text/plain": [
       "(2, 5)"
      ]
     },
     "execution_count": 4,
     "metadata": {},
     "output_type": "execute_result"
    }
   ],
   "source": [
    "a.shape"
   ]
  },
  {
   "cell_type": "code",
   "execution_count": 5,
   "id": "a785422d",
   "metadata": {},
   "outputs": [
    {
     "data": {
      "text/plain": [
       "10"
      ]
     },
     "execution_count": 5,
     "metadata": {},
     "output_type": "execute_result"
    }
   ],
   "source": [
    "a.size    #ndarray对象元素的个数，相当于.shape中n*m的值"
   ]
  },
  {
   "cell_type": "code",
   "execution_count": 6,
   "id": "d66fcdf4",
   "metadata": {},
   "outputs": [
    {
     "data": {
      "text/plain": [
       "dtype('int64')"
      ]
     },
     "execution_count": 6,
     "metadata": {},
     "output_type": "execute_result"
    }
   ],
   "source": [
    "a.dtype"
   ]
  },
  {
   "cell_type": "code",
   "execution_count": 7,
   "id": "40361c69",
   "metadata": {},
   "outputs": [
    {
     "data": {
      "text/plain": [
       "8"
      ]
     },
     "execution_count": 7,
     "metadata": {},
     "output_type": "execute_result"
    }
   ],
   "source": [
    "a.itemsize    #ndarray对象中每个元素的大小，以字节为单位"
   ]
  },
  {
   "cell_type": "code",
   "execution_count": 8,
   "id": "2a433274",
   "metadata": {},
   "outputs": [
    {
     "name": "stderr",
     "output_type": "stream",
     "text": [
      "/var/folders/ks/bmr_smnj09lfkr2_t02lcj2w0000gn/T/ipykernel_54157/3396327079.py:2: VisibleDeprecationWarning: Creating an ndarray from ragged nested sequences (which is a list-or-tuple of lists-or-tuples-or ndarrays with different lengths or shapes) is deprecated. If you meant to do this, you must specify 'dtype=object' when creating the ndarray.\n",
      "  x = np.array([[0,1,2,3,4],[9,8,7,6]])\n"
     ]
    }
   ],
   "source": [
    "#非同质的ndarray对象\n",
    "x = np.array([[0,1,2,3,4],[9,8,7,6]])"
   ]
  },
  {
   "cell_type": "code",
   "execution_count": 9,
   "id": "5c0d4e4b",
   "metadata": {},
   "outputs": [
    {
     "data": {
      "text/plain": [
       "(2,)"
      ]
     },
     "execution_count": 9,
     "metadata": {},
     "output_type": "execute_result"
    }
   ],
   "source": [
    "x.shape"
   ]
  },
  {
   "cell_type": "code",
   "execution_count": 10,
   "id": "06f6bdf5",
   "metadata": {},
   "outputs": [
    {
     "data": {
      "text/plain": [
       "dtype('O')"
      ]
     },
     "execution_count": 10,
     "metadata": {},
     "output_type": "execute_result"
    }
   ],
   "source": [
    "x.dtype"
   ]
  },
  {
   "cell_type": "code",
   "execution_count": 11,
   "id": "434e8e88",
   "metadata": {},
   "outputs": [
    {
     "data": {
      "text/plain": [
       "array([list([0, 1, 2, 3, 4]), list([9, 8, 7, 6])], dtype=object)"
      ]
     },
     "execution_count": 11,
     "metadata": {},
     "output_type": "execute_result"
    }
   ],
   "source": [
    "x"
   ]
  },
  {
   "cell_type": "code",
   "execution_count": 12,
   "id": "1cdc2e59",
   "metadata": {},
   "outputs": [
    {
     "data": {
      "text/plain": [
       "2"
      ]
     },
     "execution_count": 12,
     "metadata": {},
     "output_type": "execute_result"
    }
   ],
   "source": [
    "x.size"
   ]
  },
  {
   "cell_type": "code",
   "execution_count": 5,
   "id": "9f0ab608",
   "metadata": {},
   "outputs": [
    {
     "data": {
      "text/plain": [
       "array([[1, 2, 3, 4],\n",
       "       [5, 6, 7, 8]])"
      ]
     },
     "execution_count": 5,
     "metadata": {},
     "output_type": "execute_result"
    }
   ],
   "source": [
    "#嵌套序列\n",
    "data = [[1,2,3,4],[5,6,7,8]]\n",
    "arr = np.array(data)\n",
    "arr"
   ]
  },
  {
   "cell_type": "markdown",
   "id": "8f9d289f",
   "metadata": {},
   "source": [
    "### 数组创建方法"
   ]
  },
  {
   "cell_type": "code",
   "execution_count": 13,
   "id": "a1368e4d",
   "metadata": {},
   "outputs": [
    {
     "data": {
      "text/plain": [
       "array([0, 1, 2, 3, 4, 5, 6, 7, 8, 9])"
      ]
     },
     "execution_count": 13,
     "metadata": {},
     "output_type": "execute_result"
    }
   ],
   "source": [
    "np.arange(10)"
   ]
  },
  {
   "cell_type": "code",
   "execution_count": 14,
   "id": "caeb90aa",
   "metadata": {},
   "outputs": [
    {
     "data": {
      "text/plain": [
       "array([[1., 1., 1., 1., 1., 1.],\n",
       "       [1., 1., 1., 1., 1., 1.],\n",
       "       [1., 1., 1., 1., 1., 1.]])"
      ]
     },
     "execution_count": 14,
     "metadata": {},
     "output_type": "execute_result"
    }
   ],
   "source": [
    "np.ones((3,6))"
   ]
  },
  {
   "cell_type": "code",
   "execution_count": 15,
   "id": "7c126cd5",
   "metadata": {},
   "outputs": [
    {
     "data": {
      "text/plain": [
       "array([[0, 0, 0, 0, 0, 0],\n",
       "       [0, 0, 0, 0, 0, 0],\n",
       "       [0, 0, 0, 0, 0, 0]])"
      ]
     },
     "execution_count": 15,
     "metadata": {},
     "output_type": "execute_result"
    }
   ],
   "source": [
    "np.zeros((3,6), dtype = np.int64)"
   ]
  },
  {
   "cell_type": "code",
   "execution_count": 16,
   "id": "c3deef4e",
   "metadata": {},
   "outputs": [
    {
     "data": {
      "text/plain": [
       "array([[1., 0., 0.],\n",
       "       [0., 1., 0.],\n",
       "       [0., 0., 1.]])"
      ]
     },
     "execution_count": 16,
     "metadata": {},
     "output_type": "execute_result"
    }
   ],
   "source": [
    "np.eye(3)"
   ]
  },
  {
   "cell_type": "code",
   "execution_count": 17,
   "id": "6e0a16df",
   "metadata": {},
   "outputs": [
    {
     "data": {
      "text/plain": [
       "array([[1, 1, 1, 1, 1],\n",
       "       [1, 1, 1, 1, 1]])"
      ]
     },
     "execution_count": 17,
     "metadata": {},
     "output_type": "execute_result"
    }
   ],
   "source": [
    "np.ones_like(a)    #根据数组a的形状生成一个全1的数组"
   ]
  },
  {
   "cell_type": "code",
   "execution_count": 18,
   "id": "3e26e615",
   "metadata": {},
   "outputs": [
    {
     "data": {
      "text/plain": [
       "array([[0, 0, 0, 0, 0],\n",
       "       [0, 0, 0, 0, 0]])"
      ]
     },
     "execution_count": 18,
     "metadata": {},
     "output_type": "execute_result"
    }
   ],
   "source": [
    "np.zeros_like(a)"
   ]
  },
  {
   "cell_type": "code",
   "execution_count": 19,
   "id": "aee8356e",
   "metadata": {},
   "outputs": [
    {
     "data": {
      "text/plain": [
       "array([[7, 7, 7, 7, 7],\n",
       "       [7, 7, 7, 7, 7]])"
      ]
     },
     "execution_count": 19,
     "metadata": {},
     "output_type": "execute_result"
    }
   ],
   "source": [
    "np.full_like(a, 7)    #val = 7, 生成一个形状和a一样的全7的数组"
   ]
  },
  {
   "cell_type": "code",
   "execution_count": 20,
   "id": "60a327d3",
   "metadata": {},
   "outputs": [
    {
     "data": {
      "text/plain": [
       "array([ 1.,  4.,  7., 10.])"
      ]
     },
     "execution_count": 20,
     "metadata": {},
     "output_type": "execute_result"
    }
   ],
   "source": [
    "a = np.linspace(1, 10, 4)   #根据起止数据等间距地填充数据，形成数组\n",
    "a"
   ]
  },
  {
   "cell_type": "code",
   "execution_count": 21,
   "id": "1bba759b",
   "metadata": {},
   "outputs": [
    {
     "data": {
      "text/plain": [
       "array([1.  , 3.25, 5.5 , 7.75])"
      ]
     },
     "execution_count": 21,
     "metadata": {},
     "output_type": "execute_result"
    }
   ],
   "source": [
    "b = np.linspace(1, 10, 4, endpoint = False)    #不包含10\n",
    "b"
   ]
  },
  {
   "cell_type": "code",
   "execution_count": 22,
   "id": "4641455c",
   "metadata": {},
   "outputs": [
    {
     "data": {
      "text/plain": [
       "array([ 1.  ,  4.  ,  7.  , 10.  ,  1.  ,  3.25,  5.5 ,  7.75])"
      ]
     },
     "execution_count": 22,
     "metadata": {},
     "output_type": "execute_result"
    }
   ],
   "source": [
    "c = np.concatenate((a,b))    #将两个或多个数组合并成一个新的数组\n",
    "c"
   ]
  },
  {
   "cell_type": "markdown",
   "id": "13d8b3c1",
   "metadata": {},
   "source": [
    "### 数组的变换"
   ]
  },
  {
   "cell_type": "code",
   "execution_count": 23,
   "id": "3346ae6b",
   "metadata": {},
   "outputs": [
    {
     "data": {
      "text/plain": [
       "array([[[1, 1, 1, 1],\n",
       "        [1, 1, 1, 1],\n",
       "        [1, 1, 1, 1]],\n",
       "\n",
       "       [[1, 1, 1, 1],\n",
       "        [1, 1, 1, 1],\n",
       "        [1, 1, 1, 1]]])"
      ]
     },
     "execution_count": 23,
     "metadata": {},
     "output_type": "execute_result"
    }
   ],
   "source": [
    "a = np.ones((2,3,4),dtype = np.int64)\n",
    "a"
   ]
  },
  {
   "cell_type": "code",
   "execution_count": 24,
   "id": "3bf36854",
   "metadata": {},
   "outputs": [
    {
     "data": {
      "text/plain": [
       "array([[1, 1, 1, 1, 1, 1, 1, 1],\n",
       "       [1, 1, 1, 1, 1, 1, 1, 1],\n",
       "       [1, 1, 1, 1, 1, 1, 1, 1]])"
      ]
     },
     "execution_count": 24,
     "metadata": {},
     "output_type": "execute_result"
    }
   ],
   "source": [
    "#.reshape(shape), 不改变数组元素，返回一个shape形状的数组，原数组不变\n",
    "a.reshape((3,8))"
   ]
  },
  {
   "cell_type": "code",
   "execution_count": 25,
   "id": "26fe63aa",
   "metadata": {},
   "outputs": [
    {
     "data": {
      "text/plain": [
       "array([[[1, 1, 1, 1],\n",
       "        [1, 1, 1, 1],\n",
       "        [1, 1, 1, 1]],\n",
       "\n",
       "       [[1, 1, 1, 1],\n",
       "        [1, 1, 1, 1],\n",
       "        [1, 1, 1, 1]]])"
      ]
     },
     "execution_count": 25,
     "metadata": {},
     "output_type": "execute_result"
    }
   ],
   "source": [
    "a"
   ]
  },
  {
   "cell_type": "code",
   "execution_count": 26,
   "id": "a3a84164",
   "metadata": {},
   "outputs": [],
   "source": [
    "#.resize(shape), 与.reshape()功能一致，但修改原数组\n",
    "a.resize((3,8))"
   ]
  },
  {
   "cell_type": "code",
   "execution_count": 27,
   "id": "0b84106d",
   "metadata": {},
   "outputs": [
    {
     "data": {
      "text/plain": [
       "array([[1, 1, 1, 1, 1, 1, 1, 1],\n",
       "       [1, 1, 1, 1, 1, 1, 1, 1],\n",
       "       [1, 1, 1, 1, 1, 1, 1, 1]])"
      ]
     },
     "execution_count": 27,
     "metadata": {},
     "output_type": "execute_result"
    }
   ],
   "source": [
    "a"
   ]
  },
  {
   "cell_type": "code",
   "execution_count": 28,
   "id": "97911114",
   "metadata": {},
   "outputs": [
    {
     "data": {
      "text/plain": [
       "array([[1., 1., 1.],\n",
       "       [1., 1., 1.]])"
      ]
     },
     "execution_count": 28,
     "metadata": {},
     "output_type": "execute_result"
    }
   ],
   "source": [
    "#.swapaxes(ax1,ax2), 将数组n个维度中两个维度进行调换\n",
    "b = np.ones((2,3))\n",
    "b"
   ]
  },
  {
   "cell_type": "code",
   "execution_count": 29,
   "id": "199f7d85",
   "metadata": {
    "slideshow": {
     "slide_type": "-"
    }
   },
   "outputs": [
    {
     "data": {
      "text/plain": [
       "array([[1., 1.],\n",
       "       [1., 1.],\n",
       "       [1., 1.]])"
      ]
     },
     "execution_count": 29,
     "metadata": {},
     "output_type": "execute_result"
    }
   ],
   "source": [
    "b.swapaxes(0,1)"
   ]
  },
  {
   "cell_type": "code",
   "execution_count": 30,
   "id": "bfe486f9",
   "metadata": {},
   "outputs": [
    {
     "data": {
      "text/plain": [
       "array([1, 1, 1, 1, 1, 1, 1, 1, 1, 1, 1, 1, 1, 1, 1, 1, 1, 1, 1, 1, 1, 1,\n",
       "       1, 1])"
      ]
     },
     "execution_count": 30,
     "metadata": {},
     "output_type": "execute_result"
    }
   ],
   "source": [
    "#.flatten(), 对数组进行降维，返回折叠后的一维数组，原数组不变\n",
    "a.flatten()"
   ]
  },
  {
   "cell_type": "code",
   "execution_count": 31,
   "id": "7b4f6fcd",
   "metadata": {},
   "outputs": [
    {
     "data": {
      "text/plain": [
       "array([[1, 1, 1, 1, 1, 1, 1, 1],\n",
       "       [1, 1, 1, 1, 1, 1, 1, 1],\n",
       "       [1, 1, 1, 1, 1, 1, 1, 1]])"
      ]
     },
     "execution_count": 31,
     "metadata": {},
     "output_type": "execute_result"
    }
   ],
   "source": [
    "a"
   ]
  },
  {
   "cell_type": "markdown",
   "id": "3aabde61",
   "metadata": {},
   "source": [
    "### 数组的类型变换"
   ]
  },
  {
   "cell_type": "markdown",
   "id": "054f982f",
   "metadata": {},
   "source": [
    "- new_a = a.astype(new_type)\n",
    "- astype( ) 方法一定会创建新的数组（原始数据的一个拷贝），即使两个类型一致"
   ]
  },
  {
   "cell_type": "code",
   "execution_count": 32,
   "id": "72c384ff",
   "metadata": {},
   "outputs": [
    {
     "data": {
      "text/plain": [
       "array([[[1, 1, 1, 1],\n",
       "        [1, 1, 1, 1],\n",
       "        [1, 1, 1, 1]],\n",
       "\n",
       "       [[1, 1, 1, 1],\n",
       "        [1, 1, 1, 1],\n",
       "        [1, 1, 1, 1]]])"
      ]
     },
     "execution_count": 32,
     "metadata": {},
     "output_type": "execute_result"
    }
   ],
   "source": [
    "a = np.ones((2,3,4), dtype = np.int64)\n",
    "a"
   ]
  },
  {
   "cell_type": "code",
   "execution_count": 33,
   "id": "1d907b3d",
   "metadata": {},
   "outputs": [
    {
     "data": {
      "text/plain": [
       "array([[[1., 1., 1., 1.],\n",
       "        [1., 1., 1., 1.],\n",
       "        [1., 1., 1., 1.]],\n",
       "\n",
       "       [[1., 1., 1., 1.],\n",
       "        [1., 1., 1., 1.],\n",
       "        [1., 1., 1., 1.]]])"
      ]
     },
     "execution_count": 33,
     "metadata": {},
     "output_type": "execute_result"
    }
   ],
   "source": [
    "b = a.astype(np.float64)\n",
    "b"
   ]
  },
  {
   "cell_type": "markdown",
   "id": "a57b0796",
   "metadata": {},
   "source": [
    "### 数组向列表的转换"
   ]
  },
  {
   "cell_type": "markdown",
   "id": "cfcf6bd9",
   "metadata": {},
   "source": [
    "ls = a.tolist()"
   ]
  },
  {
   "cell_type": "code",
   "execution_count": 34,
   "id": "50f72de5",
   "metadata": {},
   "outputs": [
    {
     "data": {
      "text/plain": [
       "array([[[25, 25, 25, 25],\n",
       "        [25, 25, 25, 25],\n",
       "        [25, 25, 25, 25]],\n",
       "\n",
       "       [[25, 25, 25, 25],\n",
       "        [25, 25, 25, 25],\n",
       "        [25, 25, 25, 25]]], dtype=int32)"
      ]
     },
     "execution_count": 34,
     "metadata": {},
     "output_type": "execute_result"
    }
   ],
   "source": [
    "a = np.full((2,3,4),25,dtype = np.int32)\n",
    "a"
   ]
  },
  {
   "cell_type": "code",
   "execution_count": 35,
   "id": "d89be28d",
   "metadata": {},
   "outputs": [
    {
     "data": {
      "text/plain": [
       "[[[25, 25, 25, 25], [25, 25, 25, 25], [25, 25, 25, 25]],\n",
       " [[25, 25, 25, 25], [25, 25, 25, 25], [25, 25, 25, 25]]]"
      ]
     },
     "execution_count": 35,
     "metadata": {},
     "output_type": "execute_result"
    }
   ],
   "source": [
    "a.tolist()"
   ]
  },
  {
   "cell_type": "markdown",
   "id": "f40afad2",
   "metadata": {},
   "source": [
    "### 数组的索引和切片"
   ]
  },
  {
   "cell_type": "markdown",
   "id": "9d40b081",
   "metadata": {
    "slideshow": {
     "slide_type": "-"
    }
   },
   "source": [
    "一维：与python列表相似"
   ]
  },
  {
   "cell_type": "code",
   "execution_count": 36,
   "id": "9c1a6728",
   "metadata": {},
   "outputs": [],
   "source": [
    "a = np.array([9, 8, 7, 6, 5])"
   ]
  },
  {
   "cell_type": "code",
   "execution_count": 37,
   "id": "1008ad82",
   "metadata": {},
   "outputs": [
    {
     "data": {
      "text/plain": [
       "7"
      ]
     },
     "execution_count": 37,
     "metadata": {},
     "output_type": "execute_result"
    }
   ],
   "source": [
    "a[2]    #下标从0开始"
   ]
  },
  {
   "cell_type": "code",
   "execution_count": 38,
   "id": "cd39bfd6",
   "metadata": {},
   "outputs": [
    {
     "data": {
      "text/plain": [
       "array([8, 6])"
      ]
     },
     "execution_count": 38,
     "metadata": {},
     "output_type": "execute_result"
    }
   ],
   "source": [
    "a[1: 4: 2]    #起始编号: 终止编号(不含): 步长，3元素冒号分割\n",
    "              #-1为右边第一个开始递减"
   ]
  },
  {
   "cell_type": "markdown",
   "id": "f363a133",
   "metadata": {},
   "source": [
    "多维数组"
   ]
  },
  {
   "cell_type": "code",
   "execution_count": 39,
   "id": "381dc54d",
   "metadata": {},
   "outputs": [],
   "source": [
    "a = np.arange(24).reshape((2,3,4))"
   ]
  },
  {
   "cell_type": "code",
   "execution_count": 40,
   "id": "17d288b8",
   "metadata": {},
   "outputs": [
    {
     "data": {
      "text/plain": [
       "array([[[ 0,  1,  2,  3],\n",
       "        [ 4,  5,  6,  7],\n",
       "        [ 8,  9, 10, 11]],\n",
       "\n",
       "       [[12, 13, 14, 15],\n",
       "        [16, 17, 18, 19],\n",
       "        [20, 21, 22, 23]]])"
      ]
     },
     "execution_count": 40,
     "metadata": {},
     "output_type": "execute_result"
    }
   ],
   "source": [
    "a"
   ]
  },
  {
   "cell_type": "code",
   "execution_count": 41,
   "id": "7e514107",
   "metadata": {},
   "outputs": [
    {
     "data": {
      "text/plain": [
       "23"
      ]
     },
     "execution_count": 41,
     "metadata": {},
     "output_type": "execute_result"
    }
   ],
   "source": [
    "a[1, 2, 3]"
   ]
  },
  {
   "cell_type": "code",
   "execution_count": 42,
   "id": "3b9b6bc1",
   "metadata": {},
   "outputs": [
    {
     "data": {
      "text/plain": [
       "17"
      ]
     },
     "execution_count": 42,
     "metadata": {},
     "output_type": "execute_result"
    }
   ],
   "source": [
    "a[-1, -2, -3]"
   ]
  },
  {
   "cell_type": "markdown",
   "id": "5de72005",
   "metadata": {},
   "source": [
    "### 数组与标量之间的运算"
   ]
  },
  {
   "cell_type": "code",
   "execution_count": 43,
   "id": "759fcbe1",
   "metadata": {},
   "outputs": [
    {
     "data": {
      "text/plain": [
       "11.5"
      ]
     },
     "execution_count": 43,
     "metadata": {},
     "output_type": "execute_result"
    }
   ],
   "source": [
    "a.mean()"
   ]
  },
  {
   "cell_type": "code",
   "execution_count": 44,
   "id": "32c84da1",
   "metadata": {},
   "outputs": [
    {
     "data": {
      "text/plain": [
       "array([[[  0,   1,   4,   9],\n",
       "        [ 16,  25,  36,  49],\n",
       "        [ 64,  81, 100, 121]],\n",
       "\n",
       "       [[144, 169, 196, 225],\n",
       "        [256, 289, 324, 361],\n",
       "        [400, 441, 484, 529]]])"
      ]
     },
     "execution_count": 44,
     "metadata": {},
     "output_type": "execute_result"
    }
   ],
   "source": [
    "np.square(a)"
   ]
  },
  {
   "cell_type": "code",
   "execution_count": 45,
   "id": "bbc7747e",
   "metadata": {},
   "outputs": [],
   "source": [
    "a = np.sqrt(a)"
   ]
  },
  {
   "cell_type": "code",
   "execution_count": 46,
   "id": "c5212bb1",
   "metadata": {},
   "outputs": [
    {
     "data": {
      "text/plain": [
       "array([[[0.        , 1.        , 1.41421356, 1.73205081],\n",
       "        [2.        , 2.23606798, 2.44948974, 2.64575131],\n",
       "        [2.82842712, 3.        , 3.16227766, 3.31662479]],\n",
       "\n",
       "       [[3.46410162, 3.60555128, 3.74165739, 3.87298335],\n",
       "        [4.        , 4.12310563, 4.24264069, 4.35889894],\n",
       "        [4.47213595, 4.58257569, 4.69041576, 4.79583152]]])"
      ]
     },
     "execution_count": 46,
     "metadata": {},
     "output_type": "execute_result"
    }
   ],
   "source": [
    "a"
   ]
  },
  {
   "cell_type": "code",
   "execution_count": 47,
   "id": "1c54e946",
   "metadata": {},
   "outputs": [
    {
     "data": {
      "text/plain": [
       "(array([[[0.        , 0.        , 0.41421356, 0.73205081],\n",
       "         [0.        , 0.23606798, 0.44948974, 0.64575131],\n",
       "         [0.82842712, 0.        , 0.16227766, 0.31662479]],\n",
       " \n",
       "        [[0.46410162, 0.60555128, 0.74165739, 0.87298335],\n",
       "         [0.        , 0.12310563, 0.24264069, 0.35889894],\n",
       "         [0.47213595, 0.58257569, 0.69041576, 0.79583152]]]),\n",
       " array([[[0., 1., 1., 1.],\n",
       "         [2., 2., 2., 2.],\n",
       "         [2., 3., 3., 3.]],\n",
       " \n",
       "        [[3., 3., 3., 3.],\n",
       "         [4., 4., 4., 4.],\n",
       "         [4., 4., 4., 4.]]]))"
      ]
     },
     "execution_count": 47,
     "metadata": {},
     "output_type": "execute_result"
    }
   ],
   "source": [
    "np.modf(a)    #将数组各元素的小数和整数部分以两个独立数组形式返回"
   ]
  },
  {
   "cell_type": "code",
   "execution_count": 48,
   "id": "9b97631c",
   "metadata": {},
   "outputs": [
    {
     "data": {
      "text/plain": [
       "array([[[0., 1., 1., 2.],\n",
       "        [2., 2., 2., 3.],\n",
       "        [3., 3., 3., 3.]],\n",
       "\n",
       "       [[3., 4., 4., 4.],\n",
       "        [4., 4., 4., 4.],\n",
       "        [4., 5., 5., 5.]]])"
      ]
     },
     "execution_count": 48,
     "metadata": {},
     "output_type": "execute_result"
    }
   ],
   "source": [
    "np.rint(a)    #数组各元素的四舍五入值"
   ]
  },
  {
   "cell_type": "code",
   "execution_count": 49,
   "id": "bfc92018",
   "metadata": {},
   "outputs": [],
   "source": [
    "#np.cos(x) np.cosh(x)\n",
    "#np.sin(x) np.sinh(x)    计算数组各元素的普通型和双曲型三角函数\n",
    "#np.tan(x) np.tanh(x)"
   ]
  },
  {
   "cell_type": "code",
   "execution_count": 50,
   "id": "7a46c010",
   "metadata": {},
   "outputs": [],
   "source": [
    "#np.exp(x)     数组各元素的指数值"
   ]
  },
  {
   "cell_type": "code",
   "execution_count": 51,
   "id": "b5d3e334",
   "metadata": {},
   "outputs": [],
   "source": [
    "#np.sign(x)    数组各元素的符号值，1(+), 0, ‐1(‐)"
   ]
  },
  {
   "cell_type": "code",
   "execution_count": 52,
   "id": "879ed92d",
   "metadata": {},
   "outputs": [],
   "source": [
    "a = np.arange(24).reshape((2,3,4))"
   ]
  },
  {
   "cell_type": "code",
   "execution_count": 53,
   "id": "cf272a13",
   "metadata": {},
   "outputs": [],
   "source": [
    "b = np.sqrt(a)"
   ]
  },
  {
   "cell_type": "code",
   "execution_count": 54,
   "id": "d03e8be3",
   "metadata": {},
   "outputs": [
    {
     "data": {
      "text/plain": [
       "array([[[ 0,  1,  2,  3],\n",
       "        [ 4,  5,  6,  7],\n",
       "        [ 8,  9, 10, 11]],\n",
       "\n",
       "       [[12, 13, 14, 15],\n",
       "        [16, 17, 18, 19],\n",
       "        [20, 21, 22, 23]]])"
      ]
     },
     "execution_count": 54,
     "metadata": {},
     "output_type": "execute_result"
    }
   ],
   "source": [
    "a"
   ]
  },
  {
   "cell_type": "code",
   "execution_count": 55,
   "id": "70d2c9a3",
   "metadata": {},
   "outputs": [
    {
     "data": {
      "text/plain": [
       "array([[[0.        , 1.        , 1.41421356, 1.73205081],\n",
       "        [2.        , 2.23606798, 2.44948974, 2.64575131],\n",
       "        [2.82842712, 3.        , 3.16227766, 3.31662479]],\n",
       "\n",
       "       [[3.46410162, 3.60555128, 3.74165739, 3.87298335],\n",
       "        [4.        , 4.12310563, 4.24264069, 4.35889894],\n",
       "        [4.47213595, 4.58257569, 4.69041576, 4.79583152]]])"
      ]
     },
     "execution_count": 55,
     "metadata": {},
     "output_type": "execute_result"
    }
   ],
   "source": [
    "b"
   ]
  },
  {
   "cell_type": "code",
   "execution_count": 56,
   "id": "7793cf83",
   "metadata": {},
   "outputs": [
    {
     "data": {
      "text/plain": [
       "array([[[ 0.,  1.,  2.,  3.],\n",
       "        [ 4.,  5.,  6.,  7.],\n",
       "        [ 8.,  9., 10., 11.]],\n",
       "\n",
       "       [[12., 13., 14., 15.],\n",
       "        [16., 17., 18., 19.],\n",
       "        [20., 21., 22., 23.]]])"
      ]
     },
     "execution_count": 56,
     "metadata": {},
     "output_type": "execute_result"
    }
   ],
   "source": [
    "np.maximum(a,b)    #元素最大值, np.minimum(x,y)最小值"
   ]
  },
  {
   "cell_type": "code",
   "execution_count": 57,
   "id": "23180283",
   "metadata": {},
   "outputs": [
    {
     "data": {
      "text/plain": [
       "array([ 8, 11,  7])"
      ]
     },
     "execution_count": 57,
     "metadata": {},
     "output_type": "execute_result"
    }
   ],
   "source": [
    "np.fmax([8, 3, 7], [1, 11, 2])    #np.fmin最小值"
   ]
  },
  {
   "cell_type": "code",
   "execution_count": 58,
   "id": "58c80a09",
   "metadata": {},
   "outputs": [
    {
     "data": {
      "text/plain": [
       "array([[[False, False,  True,  True],\n",
       "        [ True,  True,  True,  True],\n",
       "        [ True,  True,  True,  True]],\n",
       "\n",
       "       [[ True,  True,  True,  True],\n",
       "        [ True,  True,  True,  True],\n",
       "        [ True,  True,  True,  True]]])"
      ]
     },
     "execution_count": 58,
     "metadata": {},
     "output_type": "execute_result"
    }
   ],
   "source": [
    "a > b    #> < >= <= == != 算术比较，产生布尔型数组"
   ]
  },
  {
   "cell_type": "code",
   "execution_count": 59,
   "id": "c0373b5e",
   "metadata": {},
   "outputs": [
    {
     "data": {
      "text/plain": [
       "array([[[  0.        ,   1.        ,   2.82842712,   5.19615242],\n",
       "        [  8.        ,  11.18033989,  14.69693846,  18.52025918],\n",
       "        [ 22.627417  ,  27.        ,  31.6227766 ,  36.48287269]],\n",
       "\n",
       "       [[ 41.56921938,  46.87216658,  52.38320341,  58.09475019],\n",
       "        [ 64.        ,  70.09279564,  76.36753237,  82.81907993],\n",
       "        [ 89.4427191 ,  96.23408959, 103.18914672, 110.30412504]]])"
      ]
     },
     "execution_count": 59,
     "metadata": {},
     "output_type": "execute_result"
    }
   ],
   "source": [
    "a * b    #+ ‐ * / ** 两个数组各元素进行对应运算(不是矩阵乘法！！！！)"
   ]
  },
  {
   "cell_type": "code",
   "execution_count": 60,
   "id": "11ac38dc",
   "metadata": {},
   "outputs": [
    {
     "data": {
      "text/plain": [
       "array([-1.,  2., -3.])"
      ]
     },
     "execution_count": 60,
     "metadata": {},
     "output_type": "execute_result"
    }
   ],
   "source": [
    "np.copysign([1,2,3],[-1,5,-3])  #将数组y中各元素值的符号赋值给数组x对应元素"
   ]
  },
  {
   "cell_type": "markdown",
   "id": "57cd822c",
   "metadata": {},
   "source": [
    "## 数据存取与函数"
   ]
  },
  {
   "cell_type": "markdown",
   "id": "c4c652bf",
   "metadata": {},
   "source": [
    "### CSV文件(Comma‐Separated Value, 逗号分隔值)"
   ]
  },
  {
   "cell_type": "markdown",
   "id": "0c80bda5",
   "metadata": {},
   "source": [
    "CSV是一种常见的文件格式，用来存储批量数据"
   ]
  },
  {
   "cell_type": "markdown",
   "id": "9b047e98",
   "metadata": {},
   "source": [
    "np.savetxt(frame, array, fmt='%.18e', delimiter=None)\n",
    "\n",
    "- frame : 文件、字符串或产生器，可以是.gz或.bz2的压缩文件\n",
    "- array : 存入文件的数组\n",
    "- fmt : 写入文件的格式，例如：%d %.2f %.18e\n",
    "- delimiter : 分割字符串，默认是任何空格"
   ]
  },
  {
   "cell_type": "code",
   "execution_count": 61,
   "id": "ae1e9193",
   "metadata": {},
   "outputs": [],
   "source": [
    " a = np.arange(100).reshape(5,20)"
   ]
  },
  {
   "cell_type": "code",
   "execution_count": 62,
   "id": "bb2764c4",
   "metadata": {},
   "outputs": [],
   "source": [
    "np.savetxt('a.csv', a, fmt = '%d', delimiter = ',')\n",
    "#mac一般存在用户文件夹"
   ]
  },
  {
   "cell_type": "markdown",
   "id": "e1788059",
   "metadata": {},
   "source": [
    "np.loadtxt(frame, dtype=np.float, delimiter=None， unpack=False)\n",
    "- delimiter : 分割字符串，默认是任何空格\n",
    "- unpack : 如果True，读入属性将分别写入不同变量"
   ]
  },
  {
   "cell_type": "code",
   "execution_count": 63,
   "id": "2558c311",
   "metadata": {},
   "outputs": [],
   "source": [
    "b = np.loadtxt('a.csv',delimiter=',')"
   ]
  },
  {
   "cell_type": "code",
   "execution_count": 64,
   "id": "9f84e16f",
   "metadata": {},
   "outputs": [
    {
     "data": {
      "text/plain": [
       "array([[ 0.,  1.,  2.,  3.,  4.,  5.,  6.,  7.,  8.,  9., 10., 11., 12.,\n",
       "        13., 14., 15., 16., 17., 18., 19.],\n",
       "       [20., 21., 22., 23., 24., 25., 26., 27., 28., 29., 30., 31., 32.,\n",
       "        33., 34., 35., 36., 37., 38., 39.],\n",
       "       [40., 41., 42., 43., 44., 45., 46., 47., 48., 49., 50., 51., 52.,\n",
       "        53., 54., 55., 56., 57., 58., 59.],\n",
       "       [60., 61., 62., 63., 64., 65., 66., 67., 68., 69., 70., 71., 72.,\n",
       "        73., 74., 75., 76., 77., 78., 79.],\n",
       "       [80., 81., 82., 83., 84., 85., 86., 87., 88., 89., 90., 91., 92.,\n",
       "        93., 94., 95., 96., 97., 98., 99.]])"
      ]
     },
     "execution_count": 64,
     "metadata": {},
     "output_type": "execute_result"
    }
   ],
   "source": [
    "b"
   ]
  },
  {
   "cell_type": "code",
   "execution_count": 65,
   "id": "bc7dc4a2",
   "metadata": {},
   "outputs": [],
   "source": [
    "b = np.loadtxt('a.csv', dtype=np.int64, delimiter=',')"
   ]
  },
  {
   "cell_type": "code",
   "execution_count": 66,
   "id": "f1602209",
   "metadata": {},
   "outputs": [
    {
     "data": {
      "text/plain": [
       "array([[ 0,  1,  2,  3,  4,  5,  6,  7,  8,  9, 10, 11, 12, 13, 14, 15,\n",
       "        16, 17, 18, 19],\n",
       "       [20, 21, 22, 23, 24, 25, 26, 27, 28, 29, 30, 31, 32, 33, 34, 35,\n",
       "        36, 37, 38, 39],\n",
       "       [40, 41, 42, 43, 44, 45, 46, 47, 48, 49, 50, 51, 52, 53, 54, 55,\n",
       "        56, 57, 58, 59],\n",
       "       [60, 61, 62, 63, 64, 65, 66, 67, 68, 69, 70, 71, 72, 73, 74, 75,\n",
       "        76, 77, 78, 79],\n",
       "       [80, 81, 82, 83, 84, 85, 86, 87, 88, 89, 90, 91, 92, 93, 94, 95,\n",
       "        96, 97, 98, 99]])"
      ]
     },
     "execution_count": 66,
     "metadata": {},
     "output_type": "execute_result"
    }
   ],
   "source": [
    "b"
   ]
  },
  {
   "cell_type": "markdown",
   "id": "480e87d2",
   "metadata": {},
   "source": [
    "- CSV只能有效存储一维和二维数组\n",
    "- np.savetxt() np.loadtxt()只能有效存取一维和二维数组"
   ]
  },
  {
   "cell_type": "markdown",
   "id": "1970cd8e",
   "metadata": {},
   "source": [
    "### 多维数据存取"
   ]
  },
  {
   "cell_type": "markdown",
   "id": "0ff3f296",
   "metadata": {},
   "source": [
    "a.tofile(frame, sep='', format='%s')\n",
    "- frame : 文件、字符串\n",
    "- sep : 数据分割字符串，如果是空串，写入文件为二进制\n",
    "- format : 写入数据的格式"
   ]
  },
  {
   "cell_type": "code",
   "execution_count": 67,
   "id": "c99561c7",
   "metadata": {},
   "outputs": [],
   "source": [
    "a = np.arange(100).reshape(5,10,2)"
   ]
  },
  {
   "cell_type": "code",
   "execution_count": 68,
   "id": "21422a4d",
   "metadata": {},
   "outputs": [],
   "source": [
    "a.tofile(\"b.dat\", sep=\",\", format = '%d')"
   ]
  },
  {
   "cell_type": "markdown",
   "id": "2a33a82b",
   "metadata": {},
   "source": [
    "np.fromfile(frame, dtype=float, count=‐1, sep='')\n",
    "- count : 读入元素个数，‐1表示读入整个文件\n",
    "- sep : 数据分割字符串，如果是空串，写入文件为二进制"
   ]
  },
  {
   "cell_type": "code",
   "execution_count": 69,
   "id": "140982fd",
   "metadata": {},
   "outputs": [],
   "source": [
    "c = np.fromfile(\"b.dat\",dtype = np.int64, sep = \",\")"
   ]
  },
  {
   "cell_type": "code",
   "execution_count": 70,
   "id": "325395c9",
   "metadata": {},
   "outputs": [
    {
     "data": {
      "text/plain": [
       "array([ 0,  1,  2,  3,  4,  5,  6,  7,  8,  9, 10, 11, 12, 13, 14, 15, 16,\n",
       "       17, 18, 19, 20, 21, 22, 23, 24, 25, 26, 27, 28, 29, 30, 31, 32, 33,\n",
       "       34, 35, 36, 37, 38, 39, 40, 41, 42, 43, 44, 45, 46, 47, 48, 49, 50,\n",
       "       51, 52, 53, 54, 55, 56, 57, 58, 59, 60, 61, 62, 63, 64, 65, 66, 67,\n",
       "       68, 69, 70, 71, 72, 73, 74, 75, 76, 77, 78, 79, 80, 81, 82, 83, 84,\n",
       "       85, 86, 87, 88, 89, 90, 91, 92, 93, 94, 95, 96, 97, 98, 99])"
      ]
     },
     "execution_count": 70,
     "metadata": {},
     "output_type": "execute_result"
    }
   ],
   "source": [
    "c"
   ]
  },
  {
   "cell_type": "code",
   "execution_count": 71,
   "id": "9ff279ab",
   "metadata": {},
   "outputs": [],
   "source": [
    "c = np.fromfile(\"b.dat\",dtype = np.int64, sep = \",\").reshape(5,10,2)"
   ]
  },
  {
   "cell_type": "code",
   "execution_count": 72,
   "id": "2fb705de",
   "metadata": {},
   "outputs": [
    {
     "data": {
      "text/plain": [
       "array([[[ 0,  1],\n",
       "        [ 2,  3],\n",
       "        [ 4,  5],\n",
       "        [ 6,  7],\n",
       "        [ 8,  9],\n",
       "        [10, 11],\n",
       "        [12, 13],\n",
       "        [14, 15],\n",
       "        [16, 17],\n",
       "        [18, 19]],\n",
       "\n",
       "       [[20, 21],\n",
       "        [22, 23],\n",
       "        [24, 25],\n",
       "        [26, 27],\n",
       "        [28, 29],\n",
       "        [30, 31],\n",
       "        [32, 33],\n",
       "        [34, 35],\n",
       "        [36, 37],\n",
       "        [38, 39]],\n",
       "\n",
       "       [[40, 41],\n",
       "        [42, 43],\n",
       "        [44, 45],\n",
       "        [46, 47],\n",
       "        [48, 49],\n",
       "        [50, 51],\n",
       "        [52, 53],\n",
       "        [54, 55],\n",
       "        [56, 57],\n",
       "        [58, 59]],\n",
       "\n",
       "       [[60, 61],\n",
       "        [62, 63],\n",
       "        [64, 65],\n",
       "        [66, 67],\n",
       "        [68, 69],\n",
       "        [70, 71],\n",
       "        [72, 73],\n",
       "        [74, 75],\n",
       "        [76, 77],\n",
       "        [78, 79]],\n",
       "\n",
       "       [[80, 81],\n",
       "        [82, 83],\n",
       "        [84, 85],\n",
       "        [86, 87],\n",
       "        [88, 89],\n",
       "        [90, 91],\n",
       "        [92, 93],\n",
       "        [94, 95],\n",
       "        [96, 97],\n",
       "        [98, 99]]])"
      ]
     },
     "execution_count": 72,
     "metadata": {},
     "output_type": "execute_result"
    }
   ],
   "source": [
    "c"
   ]
  },
  {
   "cell_type": "markdown",
   "id": "a21e874c",
   "metadata": {},
   "source": [
    "- 该方法需要读取时知道存入文件时数组的维度和元素类型。\n",
    "- a.tofile()和np.fromfile()需要配合使用。\n",
    "- 可以通过元数据文件来存储额外信息。"
   ]
  },
  {
   "cell_type": "markdown",
   "id": "3615af59",
   "metadata": {},
   "source": [
    "### Numpy便捷文件存取"
   ]
  },
  {
   "cell_type": "markdown",
   "id": "3fbc52e9",
   "metadata": {},
   "source": [
    "np.save(fname, array) 或np.savez(fname, array)\n",
    "\n",
    "np.load(fname)"
   ]
  },
  {
   "cell_type": "markdown",
   "id": "4af98210",
   "metadata": {},
   "source": [
    "- fname : 文件名，以.npy为扩展名，压缩扩展名为.npz"
   ]
  },
  {
   "cell_type": "code",
   "execution_count": 73,
   "id": "bd1c3a9b",
   "metadata": {},
   "outputs": [],
   "source": [
    "a = np.arange(100).reshape(5,10,2)"
   ]
  },
  {
   "cell_type": "code",
   "execution_count": 74,
   "id": "d9ebb28c",
   "metadata": {},
   "outputs": [],
   "source": [
    "np.save(\"a.npy\",a)"
   ]
  },
  {
   "cell_type": "code",
   "execution_count": 75,
   "id": "887298bd",
   "metadata": {},
   "outputs": [],
   "source": [
    "b = np.load(\"a.npy\")"
   ]
  },
  {
   "cell_type": "code",
   "execution_count": 76,
   "id": "2b224dca",
   "metadata": {},
   "outputs": [
    {
     "data": {
      "text/plain": [
       "array([[[ 0,  1],\n",
       "        [ 2,  3],\n",
       "        [ 4,  5],\n",
       "        [ 6,  7],\n",
       "        [ 8,  9],\n",
       "        [10, 11],\n",
       "        [12, 13],\n",
       "        [14, 15],\n",
       "        [16, 17],\n",
       "        [18, 19]],\n",
       "\n",
       "       [[20, 21],\n",
       "        [22, 23],\n",
       "        [24, 25],\n",
       "        [26, 27],\n",
       "        [28, 29],\n",
       "        [30, 31],\n",
       "        [32, 33],\n",
       "        [34, 35],\n",
       "        [36, 37],\n",
       "        [38, 39]],\n",
       "\n",
       "       [[40, 41],\n",
       "        [42, 43],\n",
       "        [44, 45],\n",
       "        [46, 47],\n",
       "        [48, 49],\n",
       "        [50, 51],\n",
       "        [52, 53],\n",
       "        [54, 55],\n",
       "        [56, 57],\n",
       "        [58, 59]],\n",
       "\n",
       "       [[60, 61],\n",
       "        [62, 63],\n",
       "        [64, 65],\n",
       "        [66, 67],\n",
       "        [68, 69],\n",
       "        [70, 71],\n",
       "        [72, 73],\n",
       "        [74, 75],\n",
       "        [76, 77],\n",
       "        [78, 79]],\n",
       "\n",
       "       [[80, 81],\n",
       "        [82, 83],\n",
       "        [84, 85],\n",
       "        [86, 87],\n",
       "        [88, 89],\n",
       "        [90, 91],\n",
       "        [92, 93],\n",
       "        [94, 95],\n",
       "        [96, 97],\n",
       "        [98, 99]]])"
      ]
     },
     "execution_count": 76,
     "metadata": {},
     "output_type": "execute_result"
    }
   ],
   "source": [
    "b"
   ]
  },
  {
   "cell_type": "markdown",
   "id": "f256d34a",
   "metadata": {},
   "source": [
    "## 随机数函数"
   ]
  },
  {
   "cell_type": "markdown",
   "id": "399eee8d",
   "metadata": {},
   "source": [
    "### Numpy的random子库"
   ]
  },
  {
   "cell_type": "markdown",
   "id": "85995271",
   "metadata": {},
   "source": [
    "np.random.*"
   ]
  },
  {
   "cell_type": "code",
   "execution_count": 77,
   "id": "3d0623f7",
   "metadata": {},
   "outputs": [
    {
     "data": {
      "text/plain": [
       "array([[0.57308154, 0.42804077, 0.77828419],\n",
       "       [0.11447461, 0.76937147, 0.06085728],\n",
       "       [0.94486082, 0.95464154, 0.19243353]])"
      ]
     },
     "execution_count": 77,
     "metadata": {},
     "output_type": "execute_result"
    }
   ],
   "source": [
    "# rand(d0,d1,..,dn), 根据d0‐dn创建随机数数组，浮点数，[0,1)，均匀分布\n",
    "a = np.random.rand(3,3)\n",
    "a"
   ]
  },
  {
   "cell_type": "code",
   "execution_count": 78,
   "id": "487ff6a5",
   "metadata": {},
   "outputs": [
    {
     "data": {
      "text/plain": [
       "array([[ 1.0718876 ,  1.1816482 ,  0.44352432],\n",
       "       [-0.89958437, -0.63998576, -0.27722868],\n",
       "       [-0.5219189 ,  0.86785855, -0.61189135]])"
      ]
     },
     "execution_count": 78,
     "metadata": {},
     "output_type": "execute_result"
    }
   ],
   "source": [
    "# randn(d0,d1,..,dn), 根据d0‐dn创建随机数数组，标准正态分布\n",
    "a = np.random.randn(3,3)\n",
    "a"
   ]
  },
  {
   "cell_type": "code",
   "execution_count": 79,
   "id": "8f67ad6e",
   "metadata": {},
   "outputs": [
    {
     "data": {
      "text/plain": [
       "array([[142, 167, 137, 103],\n",
       "       [184, 111, 105, 194],\n",
       "       [156, 167, 108, 144]])"
      ]
     },
     "execution_count": 79,
     "metadata": {},
     "output_type": "execute_result"
    }
   ],
   "source": [
    "# randint(low[,high,shape])\n",
    "#根据shape创建随机整数或整数数组，范围是[low, high)\n",
    "b = np.random.randint(100,200,(3,4))\n",
    "b"
   ]
  },
  {
   "cell_type": "code",
   "execution_count": 80,
   "id": "95837948",
   "metadata": {},
   "outputs": [],
   "source": [
    "# seed(s),随机数种子，s是给定的种子值\n",
    "# seed可以重复，里面的数字是第几组，\n",
    "# 每个seed只能用一次（相当于要一次，seed(x)要重新在前面写一遍）\n",
    "np.random.seed(1)"
   ]
  },
  {
   "cell_type": "code",
   "execution_count": 81,
   "id": "a9fcc282",
   "metadata": {},
   "outputs": [
    {
     "data": {
      "text/plain": [
       "array([[38, 44, 13],\n",
       "       [ 9, 10, 12],\n",
       "       [ 6, 16,  1]])"
      ]
     },
     "execution_count": 81,
     "metadata": {},
     "output_type": "execute_result"
    }
   ],
   "source": [
    "np.random.randint(1,50,(3,3))"
   ]
  },
  {
   "cell_type": "code",
   "execution_count": 82,
   "id": "2d794623",
   "metadata": {},
   "outputs": [],
   "source": [
    "np.random.seed(1)"
   ]
  },
  {
   "cell_type": "code",
   "execution_count": 83,
   "id": "dd219714",
   "metadata": {},
   "outputs": [
    {
     "data": {
      "text/plain": [
       "array([[38, 44, 13],\n",
       "       [ 9, 10, 12],\n",
       "       [ 6, 16,  1]])"
      ]
     },
     "execution_count": 83,
     "metadata": {},
     "output_type": "execute_result"
    }
   ],
   "source": [
    "np.random.randint(1,50,(3,3))"
   ]
  },
  {
   "cell_type": "code",
   "execution_count": 84,
   "id": "a7059080",
   "metadata": {},
   "outputs": [
    {
     "data": {
      "text/plain": [
       "array([[17,  2, 13],\n",
       "       [ 8, 46,  7],\n",
       "       [26, 21, 38]])"
      ]
     },
     "execution_count": 84,
     "metadata": {},
     "output_type": "execute_result"
    }
   ],
   "source": [
    "np.random.randint(1,50,(3,3))    #没有写seed(1)，就没有了"
   ]
  },
  {
   "cell_type": "code",
   "execution_count": 85,
   "id": "0f0bf761",
   "metadata": {},
   "outputs": [],
   "source": [
    "np.random.seed(2)   #第二组随机数"
   ]
  },
  {
   "cell_type": "code",
   "execution_count": 86,
   "id": "bc9d6fec",
   "metadata": {},
   "outputs": [
    {
     "data": {
      "text/plain": [
       "array([[41, 16, 46],\n",
       "       [ 9, 23, 44],\n",
       "       [19, 12, 41]])"
      ]
     },
     "execution_count": 86,
     "metadata": {},
     "output_type": "execute_result"
    }
   ],
   "source": [
    "np.random.randint(1,50,(3,3))"
   ]
  },
  {
   "cell_type": "code",
   "execution_count": 87,
   "id": "5dc0ce57",
   "metadata": {},
   "outputs": [],
   "source": [
    "np.random.seed(2)"
   ]
  },
  {
   "cell_type": "code",
   "execution_count": 88,
   "id": "d778671d",
   "metadata": {},
   "outputs": [
    {
     "data": {
      "text/plain": [
       "array([[41, 16, 46],\n",
       "       [ 9, 23, 44],\n",
       "       [19, 12, 41]])"
      ]
     },
     "execution_count": 88,
     "metadata": {},
     "output_type": "execute_result"
    }
   ],
   "source": [
    "np.random.randint(1,50,(3,3))"
   ]
  },
  {
   "cell_type": "code",
   "execution_count": 89,
   "id": "020e4506",
   "metadata": {},
   "outputs": [],
   "source": [
    "#根据数组a的第1轴进行随排列，改变数组x\n",
    "#shuffle(a)\n",
    "a = np.random.randint(100,200,(3,4))"
   ]
  },
  {
   "cell_type": "code",
   "execution_count": 90,
   "id": "99dec65d",
   "metadata": {},
   "outputs": [
    {
     "data": {
      "text/plain": [
       "array([[107, 134, 149, 195],\n",
       "       [175, 185, 147, 163],\n",
       "       [131, 190, 120, 137]])"
      ]
     },
     "execution_count": 90,
     "metadata": {},
     "output_type": "execute_result"
    }
   ],
   "source": [
    "a"
   ]
  },
  {
   "cell_type": "code",
   "execution_count": 91,
   "id": "8407ecb7",
   "metadata": {},
   "outputs": [],
   "source": [
    "np.random.shuffle(a)"
   ]
  },
  {
   "cell_type": "code",
   "execution_count": 92,
   "id": "974225bb",
   "metadata": {},
   "outputs": [
    {
     "data": {
      "text/plain": [
       "array([[175, 185, 147, 163],\n",
       "       [107, 134, 149, 195],\n",
       "       [131, 190, 120, 137]])"
      ]
     },
     "execution_count": 92,
     "metadata": {},
     "output_type": "execute_result"
    }
   ],
   "source": [
    "a"
   ]
  },
  {
   "cell_type": "code",
   "execution_count": 93,
   "id": "5c4cdf23",
   "metadata": {},
   "outputs": [],
   "source": [
    "np.random.shuffle(a)"
   ]
  },
  {
   "cell_type": "code",
   "execution_count": 94,
   "id": "fedc79d2",
   "metadata": {},
   "outputs": [
    {
     "data": {
      "text/plain": [
       "array([[175, 185, 147, 163],\n",
       "       [107, 134, 149, 195],\n",
       "       [131, 190, 120, 137]])"
      ]
     },
     "execution_count": 94,
     "metadata": {},
     "output_type": "execute_result"
    }
   ],
   "source": [
    "a"
   ]
  },
  {
   "cell_type": "code",
   "execution_count": 95,
   "id": "eae7928c",
   "metadata": {},
   "outputs": [],
   "source": [
    "#permutation也是打乱，但是不会改变原数组\n",
    "a = np.random.randint(100,200,(3,4))"
   ]
  },
  {
   "cell_type": "code",
   "execution_count": 96,
   "id": "05762499",
   "metadata": {},
   "outputs": [
    {
     "data": {
      "text/plain": [
       "array([[151, 138, 133, 158],\n",
       "       [167, 169, 188, 168],\n",
       "       [146, 170, 195, 183]])"
      ]
     },
     "execution_count": 96,
     "metadata": {},
     "output_type": "execute_result"
    }
   ],
   "source": [
    "a"
   ]
  },
  {
   "cell_type": "code",
   "execution_count": 97,
   "id": "0123aca0",
   "metadata": {},
   "outputs": [
    {
     "data": {
      "text/plain": [
       "array([[151, 138, 133, 158],\n",
       "       [146, 170, 195, 183],\n",
       "       [167, 169, 188, 168]])"
      ]
     },
     "execution_count": 97,
     "metadata": {},
     "output_type": "execute_result"
    }
   ],
   "source": [
    "np.random.permutation(a)"
   ]
  },
  {
   "cell_type": "code",
   "execution_count": 98,
   "id": "23fea93b",
   "metadata": {},
   "outputs": [
    {
     "data": {
      "text/plain": [
       "array([[151, 138, 133, 158],\n",
       "       [167, 169, 188, 168],\n",
       "       [146, 170, 195, 183]])"
      ]
     },
     "execution_count": 98,
     "metadata": {},
     "output_type": "execute_result"
    }
   ],
   "source": [
    "a    #a没被打乱"
   ]
  },
  {
   "cell_type": "code",
   "execution_count": 99,
   "id": "f2ec283f",
   "metadata": {},
   "outputs": [],
   "source": [
    "#choice(a[,size,replace,p])\n",
    "#从一维数组a中以概率p抽取元素，形成size形状新数组\n",
    "#replace表示是否可以重用元素，默认为False\n",
    "b = np.random.randint(100,200,(8,))"
   ]
  },
  {
   "cell_type": "code",
   "execution_count": 100,
   "id": "46444ce5",
   "metadata": {},
   "outputs": [
    {
     "data": {
      "text/plain": [
       "array([166, 180, 152, 176, 150, 104, 190, 163])"
      ]
     },
     "execution_count": 100,
     "metadata": {},
     "output_type": "execute_result"
    }
   ],
   "source": [
    "b"
   ]
  },
  {
   "cell_type": "code",
   "execution_count": 101,
   "id": "02db1487",
   "metadata": {},
   "outputs": [
    {
     "data": {
      "text/plain": [
       "array([[163, 180],\n",
       "       [163, 163],\n",
       "       [190, 166]])"
      ]
     },
     "execution_count": 101,
     "metadata": {},
     "output_type": "execute_result"
    }
   ],
   "source": [
    "np.random.choice(b,(3,2))    \n",
    "#因为是等概率选取，所以有一定概率选取同一个数"
   ]
  },
  {
   "cell_type": "code",
   "execution_count": 102,
   "id": "bd00f1b4",
   "metadata": {},
   "outputs": [
    {
     "data": {
      "text/plain": [
       "array([[190, 176],\n",
       "       [166, 150],\n",
       "       [180, 163]])"
      ]
     },
     "execution_count": 102,
     "metadata": {},
     "output_type": "execute_result"
    }
   ],
   "source": [
    "np.random.choice(b,(3,2), replace=False)    #选取不同的数"
   ]
  },
  {
   "cell_type": "code",
   "execution_count": 103,
   "id": "579234a6",
   "metadata": {},
   "outputs": [
    {
     "data": {
      "text/plain": [
       "array([[152, 190],\n",
       "       [150, 180],\n",
       "       [104, 163]])"
      ]
     },
     "execution_count": 103,
     "metadata": {},
     "output_type": "execute_result"
    }
   ],
   "source": [
    "np.random.choice(b,(3,2), p=b/np.sum(b))    #数字越大概率越大"
   ]
  },
  {
   "cell_type": "code",
   "execution_count": 104,
   "id": "edac8e2e",
   "metadata": {},
   "outputs": [
    {
     "data": {
      "text/plain": [
       "array([[5.00008361, 8.89520064, 3.41613653, 5.67144128],\n",
       "       [4.27545963, 4.36747263, 7.76559185, 5.35604173],\n",
       "       [9.53742227, 5.4420816 , 0.82094922, 3.66342402]])"
      ]
     },
     "execution_count": 104,
     "metadata": {},
     "output_type": "execute_result"
    }
   ],
   "source": [
    "#uniform(low,high,size)\n",
    "#产生具有均匀分布的数组,low起始值,high结束值,size形状\n",
    "np.random.uniform(0,10,(3,4))"
   ]
  },
  {
   "cell_type": "code",
   "execution_count": 105,
   "id": "6d452bbd",
   "metadata": {},
   "outputs": [
    {
     "data": {
      "text/plain": [
       "array([[-0.29189217,  1.09267069,  1.40473201,  0.53980165],\n",
       "       [-0.52828235, -0.84426073, -2.19216319,  0.36797387],\n",
       "       [ 0.19915186, -2.91949847, -1.15925113, -0.85142751]])"
      ]
     },
     "execution_count": 105,
     "metadata": {},
     "output_type": "execute_result"
    }
   ],
   "source": [
    "#normal(loc,scale,size)\n",
    "#产生具有正态分布的数组,loc均值,scale标准差,size形状\n",
    "np.random.normal(0,1,(3,4)) #选一个标准正态分布"
   ]
  },
  {
   "cell_type": "code",
   "execution_count": 106,
   "id": "dc09f3cd",
   "metadata": {},
   "outputs": [
    {
     "data": {
      "text/plain": [
       "3"
      ]
     },
     "execution_count": 106,
     "metadata": {},
     "output_type": "execute_result"
    }
   ],
   "source": [
    "#poisson(lam,size)  泊松分布\n",
    "np.random.poisson(2)"
   ]
  },
  {
   "cell_type": "markdown",
   "id": "49647722",
   "metadata": {},
   "source": [
    "### Numpy统计函数"
   ]
  },
  {
   "cell_type": "markdown",
   "id": "129f8358",
   "metadata": {},
   "source": [
    "np.*\n",
    "- sum()\n",
    "- mean()\n",
    "- std()\n",
    "- var()\n",
    "- average()\n",
    "- min(a), max(a)\n",
    "- argmin(a), argmax(a)\n",
    "- unravel_index(index, shape)\n",
    "- ptp(a)\n",
    "- median(a)"
   ]
  },
  {
   "cell_type": "code",
   "execution_count": 107,
   "id": "23f87245",
   "metadata": {},
   "outputs": [],
   "source": [
    "a = np.arange(20).reshape(2,2,5)"
   ]
  },
  {
   "cell_type": "code",
   "execution_count": 108,
   "id": "36adfe02",
   "metadata": {},
   "outputs": [
    {
     "data": {
      "text/plain": [
       "array([[[ 0,  1,  2,  3,  4],\n",
       "        [ 5,  6,  7,  8,  9]],\n",
       "\n",
       "       [[10, 11, 12, 13, 14],\n",
       "        [15, 16, 17, 18, 19]]])"
      ]
     },
     "execution_count": 108,
     "metadata": {},
     "output_type": "execute_result"
    }
   ],
   "source": [
    "a"
   ]
  },
  {
   "cell_type": "code",
   "execution_count": 109,
   "id": "0c5abea2",
   "metadata": {},
   "outputs": [
    {
     "data": {
      "text/plain": [
       "190"
      ]
     },
     "execution_count": 109,
     "metadata": {},
     "output_type": "execute_result"
    }
   ],
   "source": [
    "#sum(a, axis=None)\n",
    "#根据给定轴axis计算数组a相关元素之和，axis整数或元组\n",
    "np.sum(a)"
   ]
  },
  {
   "cell_type": "code",
   "execution_count": 110,
   "id": "06ca5436",
   "metadata": {},
   "outputs": [
    {
     "data": {
      "text/plain": [
       "array([[10, 12, 14, 16, 18],\n",
       "       [20, 22, 24, 26, 28]])"
      ]
     },
     "execution_count": 110,
     "metadata": {},
     "output_type": "execute_result"
    }
   ],
   "source": [
    "np.sum(a, axis=0)    #10=0+10, 12=1+11, ..."
   ]
  },
  {
   "cell_type": "code",
   "execution_count": 111,
   "id": "a485585c",
   "metadata": {},
   "outputs": [
    {
     "data": {
      "text/plain": [
       "array([[ 5,  7,  9, 11, 13],\n",
       "       [25, 27, 29, 31, 33]])"
      ]
     },
     "execution_count": 111,
     "metadata": {},
     "output_type": "execute_result"
    }
   ],
   "source": [
    "np.sum(a, axis=1)    #5=0+5, 7=1+6, ..."
   ]
  },
  {
   "cell_type": "code",
   "execution_count": 112,
   "id": "d9fc6618",
   "metadata": {},
   "outputs": [
    {
     "data": {
      "text/plain": [
       "array([[10, 35],\n",
       "       [60, 85]])"
      ]
     },
     "execution_count": 112,
     "metadata": {},
     "output_type": "execute_result"
    }
   ],
   "source": [
    "np.sum(a, axis=2)    #10=1+2+3+4, 35=5+6+7+8+9, ..."
   ]
  },
  {
   "cell_type": "code",
   "execution_count": 113,
   "id": "896306a4",
   "metadata": {},
   "outputs": [
    {
     "data": {
      "text/plain": [
       "array([[ 5.,  6.,  7.,  8.,  9.],\n",
       "       [10., 11., 12., 13., 14.]])"
      ]
     },
     "execution_count": 113,
     "metadata": {},
     "output_type": "execute_result"
    }
   ],
   "source": [
    "np.mean(a, axis=0)"
   ]
  },
  {
   "cell_type": "code",
   "execution_count": 114,
   "id": "9a73806a",
   "metadata": {},
   "outputs": [],
   "source": [
    "a = np.arange(15).reshape(3,5)"
   ]
  },
  {
   "cell_type": "code",
   "execution_count": 115,
   "id": "aac7a867",
   "metadata": {},
   "outputs": [
    {
     "data": {
      "text/plain": [
       "array([[ 0,  1,  2,  3,  4],\n",
       "       [ 5,  6,  7,  8,  9],\n",
       "       [10, 11, 12, 13, 14]])"
      ]
     },
     "execution_count": 115,
     "metadata": {},
     "output_type": "execute_result"
    }
   ],
   "source": [
    "a"
   ]
  },
  {
   "cell_type": "code",
   "execution_count": 116,
   "id": "1ab90b65",
   "metadata": {},
   "outputs": [
    {
     "data": {
      "text/plain": [
       "array([2.1875, 3.1875, 4.1875, 5.1875, 6.1875])"
      ]
     },
     "execution_count": 116,
     "metadata": {},
     "output_type": "execute_result"
    }
   ],
   "source": [
    "np.average(a, axis=0, weights=[10,5,1])\n",
    "# 4.1875 = (10*2 + 5*7 + 1*12) / (10+5+1)"
   ]
  },
  {
   "cell_type": "code",
   "execution_count": 117,
   "id": "08bda972",
   "metadata": {},
   "outputs": [
    {
     "data": {
      "text/plain": [
       "4.320493798938574"
      ]
     },
     "execution_count": 117,
     "metadata": {},
     "output_type": "execute_result"
    }
   ],
   "source": [
    "np.std(a)"
   ]
  },
  {
   "cell_type": "code",
   "execution_count": 118,
   "id": "1dc8565d",
   "metadata": {},
   "outputs": [
    {
     "data": {
      "text/plain": [
       "18.666666666666668"
      ]
     },
     "execution_count": 118,
     "metadata": {},
     "output_type": "execute_result"
    }
   ],
   "source": [
    "np.var(a)"
   ]
  },
  {
   "cell_type": "code",
   "execution_count": 119,
   "id": "5608d534",
   "metadata": {},
   "outputs": [],
   "source": [
    "b = np.arange(15,0,-1).reshape(3,5)"
   ]
  },
  {
   "cell_type": "code",
   "execution_count": 120,
   "id": "05c76417",
   "metadata": {},
   "outputs": [
    {
     "data": {
      "text/plain": [
       "array([[15, 14, 13, 12, 11],\n",
       "       [10,  9,  8,  7,  6],\n",
       "       [ 5,  4,  3,  2,  1]])"
      ]
     },
     "execution_count": 120,
     "metadata": {},
     "output_type": "execute_result"
    }
   ],
   "source": [
    "b"
   ]
  },
  {
   "cell_type": "code",
   "execution_count": 121,
   "id": "5b3327fe",
   "metadata": {},
   "outputs": [
    {
     "data": {
      "text/plain": [
       "15"
      ]
     },
     "execution_count": 121,
     "metadata": {},
     "output_type": "execute_result"
    }
   ],
   "source": [
    "np.max(b)"
   ]
  },
  {
   "cell_type": "code",
   "execution_count": 122,
   "id": "1638b151",
   "metadata": {},
   "outputs": [
    {
     "data": {
      "text/plain": [
       "0"
      ]
     },
     "execution_count": 122,
     "metadata": {},
     "output_type": "execute_result"
    }
   ],
   "source": [
    "np.argmax(b)    #计算数组a中元素最大值的降一维后下标"
   ]
  },
  {
   "cell_type": "code",
   "execution_count": 123,
   "id": "d0c00305",
   "metadata": {},
   "outputs": [
    {
     "data": {
      "text/plain": [
       "(0, 0)"
      ]
     },
     "execution_count": 123,
     "metadata": {},
     "output_type": "execute_result"
    }
   ],
   "source": [
    "np.unravel_index(np.argmax(b),b.shape)#根据shape将一维下标index转换成多维下标"
   ]
  },
  {
   "cell_type": "code",
   "execution_count": 124,
   "id": "aebdd8be",
   "metadata": {},
   "outputs": [
    {
     "data": {
      "text/plain": [
       "14"
      ]
     },
     "execution_count": 124,
     "metadata": {},
     "output_type": "execute_result"
    }
   ],
   "source": [
    "np.ptp(b)    #计算数组a中元素最大值与最小值的差"
   ]
  },
  {
   "cell_type": "code",
   "execution_count": 125,
   "id": "e7d2f14a",
   "metadata": {},
   "outputs": [
    {
     "data": {
      "text/plain": [
       "8.0"
      ]
     },
     "execution_count": 125,
     "metadata": {},
     "output_type": "execute_result"
    }
   ],
   "source": [
    "np.median(b)"
   ]
  },
  {
   "cell_type": "markdown",
   "id": "93c0e42f",
   "metadata": {},
   "source": [
    "### Numpy梯度函数"
   ]
  },
  {
   "cell_type": "markdown",
   "id": "03e4de6e",
   "metadata": {},
   "source": [
    "np.gradient(f)    计算数组f中元素的梯度，当f为多维时，返回每个维度梯度"
   ]
  },
  {
   "cell_type": "markdown",
   "id": "f112d35c",
   "metadata": {},
   "source": [
    "XY坐标轴连续三个X坐标对应的Y轴值：a, b, c，其中，b的梯度是： (c‐a)/2"
   ]
  },
  {
   "cell_type": "code",
   "execution_count": 126,
   "id": "64e693b9",
   "metadata": {},
   "outputs": [],
   "source": [
    "a = np.random.randint(0,20,(5))"
   ]
  },
  {
   "cell_type": "code",
   "execution_count": 127,
   "id": "382f6d5a",
   "metadata": {},
   "outputs": [
    {
     "data": {
      "text/plain": [
       "array([17,  4,  0,  8,  4])"
      ]
     },
     "execution_count": 127,
     "metadata": {},
     "output_type": "execute_result"
    }
   ],
   "source": [
    "a"
   ]
  },
  {
   "cell_type": "code",
   "execution_count": 128,
   "id": "25fe9d72",
   "metadata": {},
   "outputs": [
    {
     "data": {
      "text/plain": [
       "array([-13. ,  -8.5,   2. ,   2. ,  -4. ])"
      ]
     },
     "execution_count": 128,
     "metadata": {},
     "output_type": "execute_result"
    }
   ],
   "source": [
    "np.gradient(a)    \n",
    "# -8.5 = (0-17)/2; -13=(4-17)/1"
   ]
  },
  {
   "cell_type": "code",
   "execution_count": 129,
   "id": "4d9bc382",
   "metadata": {},
   "outputs": [],
   "source": [
    "b = np.random.randint(1,10,(3,5))"
   ]
  },
  {
   "cell_type": "code",
   "execution_count": 130,
   "id": "9589a853",
   "metadata": {},
   "outputs": [
    {
     "data": {
      "text/plain": [
       "array([[3, 8, 2, 3, 2],\n",
       "       [1, 8, 2, 9, 1],\n",
       "       [8, 1, 6, 3, 6]])"
      ]
     },
     "execution_count": 130,
     "metadata": {},
     "output_type": "execute_result"
    }
   ],
   "source": [
    "b"
   ]
  },
  {
   "cell_type": "code",
   "execution_count": 131,
   "id": "451c8ea7",
   "metadata": {},
   "outputs": [
    {
     "data": {
      "text/plain": [
       "[array([[-2. ,  0. ,  0. ,  6. , -1. ],\n",
       "        [ 2.5, -3.5,  2. ,  0. ,  2. ],\n",
       "        [ 7. , -7. ,  4. , -6. ,  5. ]]),\n",
       " array([[ 5. , -0.5, -2.5,  0. , -1. ],\n",
       "        [ 7. ,  0.5,  0.5, -0.5, -8. ],\n",
       "        [-7. , -1. ,  1. ,  0. ,  3. ]])]"
      ]
     },
     "execution_count": 131,
     "metadata": {},
     "output_type": "execute_result"
    }
   ],
   "source": [
    "np.gradient(b)  #二维数组的结果第一个是最外层维度梯度，第二个是第二层的"
   ]
  },
  {
   "cell_type": "markdown",
   "id": "99693121",
   "metadata": {},
   "source": [
    "## 实例1： 图像的手绘效果"
   ]
  },
  {
   "cell_type": "code",
   "execution_count": 132,
   "id": "ee1a5838",
   "metadata": {},
   "outputs": [],
   "source": [
    "#图像处理第三方库 PIL库\n",
    "from PIL import Image"
   ]
  },
  {
   "cell_type": "markdown",
   "id": "de91ec54",
   "metadata": {},
   "source": [
    "- 图像是由元素组成的二维矩阵；\n",
    "- jpg格式每个元素是一个RGB值，png是RGBA四个通道，A表示透明；\n",
    "- 图像是一个三维数组，维度分别是高度、宽度、像素RGB值（jpg）。"
   ]
  },
  {
   "cell_type": "code",
   "execution_count": 133,
   "id": "86aceb01",
   "metadata": {},
   "outputs": [],
   "source": [
    "im = np.array(Image.open(\"/Users/ranjiang/Pictures/stellar.jpg\"))"
   ]
  },
  {
   "cell_type": "code",
   "execution_count": 134,
   "id": "0790e629",
   "metadata": {},
   "outputs": [
    {
     "name": "stdout",
     "output_type": "stream",
     "text": [
      "(720, 1280, 3) uint8\n"
     ]
    }
   ],
   "source": [
    "print(im.shape, im.dtype)    #RGB"
   ]
  },
  {
   "cell_type": "code",
   "execution_count": 135,
   "id": "755a357b",
   "metadata": {},
   "outputs": [],
   "source": [
    "im1 = np.array(Image.open(\"/Users/ranjiang/Pictures/blackHole.png\"))"
   ]
  },
  {
   "cell_type": "code",
   "execution_count": 136,
   "id": "901d836f",
   "metadata": {},
   "outputs": [
    {
     "name": "stdout",
     "output_type": "stream",
     "text": [
      "(1800, 2880, 4) uint8\n"
     ]
    }
   ],
   "source": [
    "print(im1.shape, im1.dtype)    #RGBA"
   ]
  },
  {
   "cell_type": "markdown",
   "id": "38ef2719",
   "metadata": {},
   "source": [
    "####图像的变换####"
   ]
  },
  {
   "cell_type": "code",
   "execution_count": 137,
   "id": "1550a6f4",
   "metadata": {},
   "outputs": [],
   "source": [
    "a = np.array(Image.open(\"/Users/ranjiang/Pictures/stellar.jpg\"))"
   ]
  },
  {
   "cell_type": "code",
   "execution_count": 138,
   "id": "665d03aa",
   "metadata": {},
   "outputs": [
    {
     "name": "stdout",
     "output_type": "stream",
     "text": [
      "(720, 1280, 3) uint8\n"
     ]
    }
   ],
   "source": [
    "print(a.shape, a.dtype)"
   ]
  },
  {
   "cell_type": "code",
   "execution_count": 139,
   "id": "87994d15",
   "metadata": {},
   "outputs": [],
   "source": [
    "b = [255, 255, 255] - a    # b为a的补值"
   ]
  },
  {
   "cell_type": "code",
   "execution_count": 140,
   "id": "059b68aa",
   "metadata": {},
   "outputs": [],
   "source": [
    "im = Image.fromarray(b.astype('uint8'))    #生成新的图像"
   ]
  },
  {
   "cell_type": "code",
   "execution_count": 141,
   "id": "6506c5a6",
   "metadata": {},
   "outputs": [],
   "source": [
    "im.save(\"/Users/ranjiang/Pictures/transStellar.jpg\")"
   ]
  },
  {
   "cell_type": "code",
   "execution_count": 142,
   "id": "360035b5",
   "metadata": {},
   "outputs": [],
   "source": [
    "#彩色变灰色\n",
    "a = np.array(Image.open(\"/Users/ranjiang/Pictures/mobius.jpg\")\n",
    "             .convert('L'))"
   ]
  },
  {
   "cell_type": "markdown",
   "id": "770a3848",
   "metadata": {},
   "source": [
    "- PIL有九种不同模式: 1，L，P，RGB，RGBA，CMYK，YCbCr，I，F；\n",
    "- .convert('1')为二值图像，非黑即白。每个像素用8个bit表示，0表示黑，255表示白；\n",
    "- .convert('L')为灰度图像，每个像素用8个bit表示，0表示黑，255表示白，其他数字表示不同的灰度;\n",
    "  转换公式：L = R * 299/1000 + G * 587/1000+ B * 114/1000;\n",
    "- .convert('P')为调色板，有256种颜色。"
   ]
  },
  {
   "cell_type": "code",
   "execution_count": 143,
   "id": "3062321e",
   "metadata": {},
   "outputs": [],
   "source": [
    "b = 255 - a    \n",
    "# c = (100/255)*a +150， 区间变换，变淡了\n",
    "# d = 255 * (a/255)**2， 像素平方，灰度色彩很重"
   ]
  },
  {
   "cell_type": "code",
   "execution_count": 144,
   "id": "49118afb",
   "metadata": {},
   "outputs": [],
   "source": [
    "im = Image.fromarray(b.astype('uint8'))"
   ]
  },
  {
   "cell_type": "code",
   "execution_count": 145,
   "id": "c1fa12d8",
   "metadata": {},
   "outputs": [],
   "source": [
    "im.save(\"/Users/ranjiang/Pictures/mobiusGray.jpg\")"
   ]
  },
  {
   "cell_type": "markdown",
   "id": "3f1db0f3",
   "metadata": {},
   "source": [
    "####正式手绘效果####"
   ]
  },
  {
   "cell_type": "markdown",
   "id": "7aec8641",
   "metadata": {},
   "source": [
    "- 黑白灰色\n",
    "- 边界线条较重\n",
    "- 相同或相近色彩趋于白色\n",
    "- 略有光源效果"
   ]
  },
  {
   "cell_type": "code",
   "execution_count": 146,
   "id": "76ba709b",
   "metadata": {},
   "outputs": [],
   "source": [
    "a = np.array(Image.open(\"/Users/ranjiang/Pictures/mobius.jpg\")\n",
    "             .convert('L')).astype('float')"
   ]
  },
  {
   "cell_type": "code",
   "execution_count": 147,
   "id": "e71d33cb",
   "metadata": {},
   "outputs": [],
   "source": [
    "##利用像素之间的梯度值和深度值对图像进行重构\n",
    "##根据灰度变化来模拟人类视觉的明暗程度\n",
    "depth = 10.               #(0-100)\n",
    "grad = np.gradient(a)     #取图像灰度的梯度值\n",
    "grad_x, grad_y = grad     #分别取横纵图像梯度值\n",
    "grad_x = grad_x * depth / 100.\n",
    "grad_y = grad_y * depth / 100.\n",
    "A =np.sqrt(grad_x**2 + grad_y**2 + 1.)\n",
    "uni_x = grad_x / A\n",
    "uni_y = grad_y / A\n",
    "uni_z = 1. / A"
   ]
  },
  {
   "cell_type": "code",
   "execution_count": 148,
   "id": "1c3a0051",
   "metadata": {},
   "outputs": [],
   "source": [
    "vec_el = np.pi/2.2        #光源的俯视角度，弧度值\n",
    "vec_az = np.pi/4.        #光源的方位角度，弧度值"
   ]
  },
  {
   "cell_type": "code",
   "execution_count": 149,
   "id": "d755bcf2",
   "metadata": {},
   "outputs": [],
   "source": [
    "dx = np.cos(vec_el)*np.cos(vec_az)    #光源对x 轴的影响\n",
    "dy = np.cos(vec_el)*np.sin(vec_az)    #光源对y 轴的影响\n",
    "dz = np.sin(vec_el)                   #光源对z 轴的影响"
   ]
  },
  {
   "cell_type": "code",
   "execution_count": 150,
   "id": "24b7679c",
   "metadata": {},
   "outputs": [],
   "source": [
    "b = 255*(dx*uni_x + dy*uni_y + dz*uni_z)    #光源归一化\n",
    "b = b.clip(0,255)"
   ]
  },
  {
   "cell_type": "code",
   "execution_count": 151,
   "id": "abdc6d16",
   "metadata": {},
   "outputs": [],
   "source": [
    "im = Image.fromarray(b.astype('uint8'))    #重构图像\n",
    "im.save(\"/Users/ranjiang/Pictures/mobiusHand.jpg\")"
   ]
  },
  {
   "cell_type": "markdown",
   "id": "12da0da0",
   "metadata": {},
   "source": [
    "**Result**"
   ]
  },
  {
   "cell_type": "markdown",
   "id": "31ef6692",
   "metadata": {},
   "source": [
    "![pic](/Users/ranjiang/Pictures/mobius.jpg \"orig\")"
   ]
  },
  {
   "cell_type": "markdown",
   "id": "520ed0bc",
   "metadata": {},
   "source": [
    "![pic](/Users/ranjiang/Pictures/mobiusHand.jpg \"trans\")"
   ]
  },
  {
   "cell_type": "markdown",
   "id": "819de030",
   "metadata": {},
   "source": [
    "# Matplotlib"
   ]
  },
  {
   "cell_type": "markdown",
   "id": "504b6b53",
   "metadata": {},
   "source": [
    "matplotlib.pyplot是绘制各类可视化图形的命令子库，相当于快捷方式"
   ]
  },
  {
   "cell_type": "code",
   "execution_count": 152,
   "id": "fe037f6d",
   "metadata": {},
   "outputs": [],
   "source": [
    "import matplotlib.pyplot as plt"
   ]
  },
  {
   "cell_type": "code",
   "execution_count": 153,
   "id": "23f8199a",
   "metadata": {},
   "outputs": [
    {
     "data": {
      "image/png": "[encoded data removed]",
      "text/plain": [
       "<Figure size 432x288 with 1 Axes>"
      ]
     },
     "metadata": {
      "needs_background": "light"
     },
     "output_type": "display_data"
    }
   ],
   "source": [
    "plt.plot([3,1,4,5,2])\n",
    "plt.xlabel(\"Index\")\n",
    "plt.ylabel(\"This is y\")\n",
    "plt.savefig('test',dpi = 600)  #save as a PNG file，dpi修改质量\n",
    "plt.show()"
   ]
  },
  {
   "cell_type": "code",
   "execution_count": 154,
   "id": "cb14e0a6",
   "metadata": {},
   "outputs": [
    {
     "data": {
      "image/png": "[encoded data removed]",
      "text/plain": [
       "<Figure size 432x288 with 1 Axes>"
      ]
     },
     "metadata": {
      "needs_background": "light"
     },
     "output_type": "display_data"
    }
   ],
   "source": [
    "#plt.plot(x,y), 当有两个以上参数时，按照x轴和y轴顺序绘制数据点\n",
    "plt.plot([0, 2, 4, 6, 8], [3, 1, 4, 5, 2])\n",
    "plt.ylabel(\"say something new\")\n",
    "plt.axis([-1, 10, 0, 6])    \n",
    "#设定横纵坐标尺度，x坐标范围-1到10，y是0到6\n",
    "plt.show()"
   ]
  },
  {
   "cell_type": "code",
   "execution_count": 155,
   "id": "e63069fd",
   "metadata": {},
   "outputs": [
    {
     "data": {
      "text/plain": [
       "<AxesSubplot:>"
      ]
     },
     "execution_count": 155,
     "metadata": {},
     "output_type": "execute_result"
    },
    {
     "data": {
      "image/png": "[encoded data removed]",
      "text/plain": [
       "<Figure size 432x288 with 1 Axes>"
      ]
     },
     "metadata": {
      "needs_background": "light"
     },
     "output_type": "display_data"
    }
   ],
   "source": [
    "#plt.subplot(nrows, ncols, plot_number)\n",
    "#把绘图区分成3行2列，当前是第4个绘图区（左到右上到下）\n",
    "plt.subplot(3,2,4)"
   ]
  },
  {
   "cell_type": "code",
   "execution_count": 156,
   "id": "cd1cdc6a",
   "metadata": {},
   "outputs": [
    {
     "data": {
      "text/plain": [
       "<AxesSubplot:>"
      ]
     },
     "execution_count": 156,
     "metadata": {},
     "output_type": "execute_result"
    },
    {
     "data": {
      "image/png": "[encoded data removed]",
      "text/plain": [
       "<Figure size 432x288 with 1 Axes>"
      ]
     },
     "metadata": {
      "needs_background": "light"
     },
     "output_type": "display_data"
    }
   ],
   "source": [
    "plt.subplot(324)    #也可这么写"
   ]
  },
  {
   "cell_type": "code",
   "execution_count": 157,
   "id": "c9258e9b",
   "metadata": {},
   "outputs": [
    {
     "data": {
      "image/png": "[encoded data removed]",
      "text/plain": [
       "<Figure size 432x288 with 2 Axes>"
      ]
     },
     "metadata": {
      "needs_background": "light"
     },
     "output_type": "display_data"
    }
   ],
   "source": [
    "def f(t):\n",
    "    return np.exp(-t) * np.cos(2*np.pi*t)    #能量衰减函数\n",
    "\n",
    "a = np.arange(0.0, 5.0, 0.02)\n",
    "\n",
    "plt.subplot(211)    #分成2行1列即上下两块，当前是上面的一块\n",
    "plt.plot(a, f(a))\n",
    "\n",
    "plt.subplot(2,1,2)\n",
    "plt.plot(a, np.cos(2*np.pi*a)) #余弦函数\n",
    "\n",
    "plt.show()"
   ]
  },
  {
   "cell_type": "markdown",
   "id": "ca97c3c1",
   "metadata": {},
   "source": [
    "## plot"
   ]
  },
  {
   "cell_type": "markdown",
   "id": "441d0e4c",
   "metadata": {},
   "source": [
    "plt.plot(x, y, format_string, **kwargs)\n",
    "- format_string: 控制曲线的格式字符串，可选\n",
    "- **kwargs : 第二组或更多(x,y,format_string)"
   ]
  },
  {
   "cell_type": "code",
   "execution_count": 158,
   "id": "67042279",
   "metadata": {},
   "outputs": [],
   "source": [
    "a = np.arange(10)"
   ]
  },
  {
   "cell_type": "code",
   "execution_count": 159,
   "id": "5979f641",
   "metadata": {},
   "outputs": [
    {
     "data": {
      "image/png": "[encoded data removed]",
      "text/plain": [
       "<Figure size 432x288 with 1 Axes>"
      ]
     },
     "metadata": {
      "needs_background": "light"
     },
     "output_type": "display_data"
    }
   ],
   "source": [
    "plt.plot(a,a*1.5, a,a*2.5, a,a*3.5, a,a*4.5)\n",
    "plt.show()"
   ]
  },
  {
   "cell_type": "markdown",
   "id": "7b954b23",
   "metadata": {},
   "source": [
    "**format_string颜色选项：**\n",
    "- 'b'蓝色，'g'绿色，'r'红色，'c'青绿色（cyan），'m'洋红色（magenta）\n",
    "- 'y'黄色，'k'黑色，'w'白色\n",
    "- '#008000'RGB某颜色，'0.8'灰度值字符串"
   ]
  },
  {
   "cell_type": "markdown",
   "id": "7cbe55c3",
   "metadata": {},
   "source": [
    "**风格字符：**\n",
    "- '‐'实线，'‐‐'破折线，'‐.'点划线，':'虚线，'' ' '无线条\n",
    "- '.'点标记,','像素标记(极小点),'o'实心圈标记"
   ]
  },
  {
   "cell_type": "markdown",
   "id": "57531c43",
   "metadata": {},
   "source": [
    "## pyplot中文显示方法"
   ]
  },
  {
   "cell_type": "markdown",
   "id": "c656c8f2",
   "metadata": {},
   "source": [
    "pyplot并不默认支持中文显示"
   ]
  },
  {
   "cell_type": "code",
   "execution_count": 160,
   "id": "11c67840",
   "metadata": {},
   "outputs": [
    {
     "data": {
      "image/png": "[encoded data removed]",
      "text/plain": [
       "<Figure size 432x288 with 1 Axes>"
      ]
     },
     "metadata": {
      "needs_background": "light"
     },
     "output_type": "display_data"
    }
   ],
   "source": [
    "#法一    在前面加rcParams修改字体，一次性搞定\n",
    "import matplotlib\n",
    "\n",
    "matplotlib.rcParams['font.family'] = 'PingFang HK' \n",
    "#'font.family'显示字体名字，'Kaiti'楷体，'LiSu'隶书，'FangSong'仿宋\n",
    "#'YouYuan'幼圆，'STSong'华文宋体，'SimHei'黑体\n",
    "#'dongt.style'字体风格，正常'normal'或斜体'italic'\n",
    "#'font.size'，整数字号或者'large'、'x‐small'\n",
    "\n",
    "plt.plot([3,1,4,5,2])\n",
    "plt.ylabel(\"这是中文\")\n",
    "plt.savefig('test', dpi=600)\n",
    "plt.show()"
   ]
  },
  {
   "cell_type": "markdown",
   "id": "64f48c01",
   "metadata": {},
   "source": [
    "<font color=red> \\* *有时候使用'SimHei'或其他字体时，出现的是方框而不是中文，则可能是该电脑的这个文件夹里没有该字体* </font>"
   ]
  },
  {
   "cell_type": "markdown",
   "id": "185b0235",
   "metadata": {},
   "source": [
    "如何查看自己电脑有什么字体？"
   ]
  },
  {
   "cell_type": "code",
   "execution_count": 161,
   "id": "7873f3a7",
   "metadata": {
    "scrolled": true
   },
   "outputs": [
    {
     "name": "stdout",
     "output_type": "stream",
     "text": [
      "{'Noto Sans Egyptian Hieroglyphs', 'Noteworthy', 'STIXSizeOneSym', 'Noto Sans Javanese', 'Noto Sans NKo', 'Kailasa', 'Noto Sans Lycian', 'Noto Sans Carian', 'Courier New', 'Silom', 'Galvji', 'Iowan Old Style', 'Noto Sans Multani', 'Zapfino', '.SF Arabic', 'Webdings', 'Noto Sans Vai', 'Farisi', 'Noto Sans Hanifi Rohingya', 'DejaVu Sans Display', 'Monaco', 'Noto Sans Bassa Vah', 'Times', 'Noto Sans Hatran', 'Noto Sans Kayah Li', 'Gujarati Sangam MN', 'Plantagenet Cherokee', 'Noto Serif Balinese', 'Academy Engraved LET', 'Noto Sans Yi', 'Phosphate', 'Kohinoor Telugu', 'Kohinoor Devanagari', 'Symbol', 'Noto Sans Rejang', 'Noto Serif Ahom', 'Noto Sans Thaana', 'Noto Sans Old Italic', 'Noto Sans Tai Le', 'Noto Sans Pahawh Hmong', 'DejaVu Sans', 'Bangla MN', 'STIXIntegralsD', 'Papyrus', 'Noto Sans Tirhuta', 'Euphemia UCAS', 'Wingdings 3', 'Telugu MN', 'Noto Sans Armenian', 'Hiragino Maru Gothic Pro', 'Myanmar MN', 'PingFang HK', 'Noto Sans Wancho', 'Zapf Dingbats', 'Didot', 'PT Mono', 'Noto Sans Oriya', 'cmss10', 'Geeza Pro', 'Arial', 'Noto Sans Modi', 'Optima', 'Gurmukhi Sangam MN', 'cmmi10', 'New Peninim MT', 'Marion', 'Muna', '.New York', 'Noto Sans Chakma', 'Oriya MN', 'Marker Felt', 'Noto Sans Tagbanwa', 'Hiragino Mincho ProN', 'Hiragino Sans', 'cmsy10', 'Palatino', 'Noto Sans Ol Chiki', 'Apple Braille', 'Georgia', 'Malayalam Sangam MN', 'Arial Unicode MS', 'Noto Sans Mro', 'Damascus', 'Noto Sans Cham', 'Kannada Sangam MN', 'Noto Sans Mahajani', 'Noto Sans Hanunoo', 'Trebuchet MS', 'Bodoni Ornaments', 'Chalkboard', 'Noto Sans Lydian', 'Shree Devanagari 714', 'Songti SC', 'Noto Sans Syriac', 'Noto Sans Mongolian', 'Noto Sans Manichaean', 'Noto Sans Newa', 'Noto Sans Inscriptional Parthian', 'Verdana', 'Khmer MN', 'Menlo', 'Noto Sans Pau Cin Hau', 'KufiStandardGK', 'Sukhumvit Set', 'Noto Sans Tifinagh', 'Noto Sans Gunjala Gondi', 'Arial Hebrew', 'Baskerville', 'AppleGothic', 'System Font', 'Luminari', 'Kohinoor Gujarati', '.SF Compact Rounded', 'Khmer Sangam MN', 'Noto Sans Avestan', 'Bradley Hand', 'Noto Sans Sora Sompeng', 'Noto Sans Psalter Pahlavi', 'Noto Sans Caucasian Albanian', 'DecoType Naskh', 'Noto Sans Imperial Aramaic', 'Noto Sans Old North Arabian', 'Avenir', 'InaiMathi', 'Mukta Mahee', 'Al Nile', 'Kohinoor Bangla', 'Noto Serif Yezidi', 'Noto Sans Phoenician', 'Brush Script MT', 'Avenir Next Condensed', 'Chalkboard SE', 'Superclarendon', 'STIXVariants', 'Noto Sans Osage', 'Noto Sans Kaithi', 'Kokonor', 'Corsiva Hebrew', 'cmr10', 'Raanana', 'Lao MN', 'cmtt10', 'SignPainter', 'Geneva', 'STIXIntegralsSm', 'Noto Sans Lepcha', 'AppleMyungjo', 'Beirut', 'Arial Black', 'Cochin', 'Tamil Sangam MN', 'Noto Sans Gothic', 'Thonburi', 'Noto Sans Syloti Nagri', 'Noto Sans Tai Viet', 'Noto Sans Adlam', 'STIXIntegralsUpD', 'Noto Sans PhagsPa', 'Devanagari MT', 'Avenir Next', 'Sinhala MN', 'Noto Sans Palmyrene', 'Noto Sans Tai Tham', 'Hiragino Sans GB', 'Baghdad', 'Noto Sans Cuneiform', 'Andale Mono', 'Arial Rounded MT Bold', 'Noto Sans Old Turkic', 'Noto Sans Bamum', 'Noto Sans Glagolitic', 'Copperplate', 'STIXIntegralsUp', 'Mshtakan', 'Tahoma', 'Noto Sans Elbasan', 'Myanmar Sangam MN', 'DIN Alternate', 'Noto Sans Brahmi', 'Rockwell', 'Ayuthaya', 'Noto Sans Nabataean', 'Noto Sans Kharoshthi', 'Bodoni 72 Oldstyle', 'Noto Sans Khudawadi', 'Helvetica Neue', 'Helvetica', 'DIN Condensed', 'Bangla Sangam MN', 'Noto Sans Khojki', 'Noto Sans Kannada', 'Noto Sans Takri', 'Noto Sans Sharada', 'STIXSizeFourSym', 'Mishafi Gold', 'Noto Sans Batak', 'Noto Sans Duployan', 'Bodoni 72 Smallcaps', 'Noto Sans Linear A', 'SimHei', 'Gill Sans', 'cmex10', 'Arial Narrow', 'Devanagari Sangam MN', 'Sinhala Sangam MN', 'Noto Sans Coptic', 'Oriya Sangam MN', 'Noto Sans Masaram Gondi', 'Noto Sans New Tai Lue', 'Noto Sans Old Hungarian', 'Tamil MN', 'Noto Sans Sundanese', 'Kefa', 'Mishafi', 'DejaVu Sans Mono', 'Noto Sans Saurashtra', 'Lao Sangam MN', 'Lucida Grande', 'Noto Sans Old Persian', 'Athelas', 'Noto Sans Ugaritic', 'Courier', 'Krungthep', 'PT Serif', 'Noto Sans Bhaiksuki', 'Farah', 'Noto Sans Mandaic', 'Noto Sans Siddham', 'Apple Symbols', 'Noto Sans Myanmar', 'Noto Sans Limbu', 'Noto Sans Miao', 'Noto Serif Myanmar', '.SF NS Rounded', 'Sana', 'Diwan Kufi', 'Microsoft Sans Serif', 'Noto Sans Cypriot', 'Kannada MN', 'Futura', 'STIXGeneral', 'Al Bayan', 'PT Serif Caption', 'Waseem', 'Al Tarikh', 'STIXSizeTwoSym', 'STIXSizeThreeSym', 'Noto Sans Buginese', 'Chalkduster', 'Noto Sans Old Permic', 'Diwan Thuluth', 'Noto Sans Warang Citi', 'cmb10', 'Times New Roman', 'DejaVu Serif', 'Noto Nastaliq Urdu', 'Seravek', 'Snell Roundhand', 'Sathu', 'Gurmukhi MN', 'Noto Sans Inscriptional Pahlavi', 'American Typewriter', 'Noto Sans Buhid', 'Apple Chancery', '.Aqua Kana', 'Bodoni 72', 'DejaVu Serif Display', 'Skia', 'Herculanum', '.Keyboard', 'Savoye LET', 'Wingdings', 'STIXIntegralsUpSm', 'Noto Sans Linear B', 'Noto Sans Meetei Mayek', 'Noto Sans Mende Kikakui', 'Noto Sans Tagalog', 'Party LET', 'Hoefler Text', 'Noto Sans Marchen', 'Telugu Sangam MN', 'Comic Sans MS', 'Noto Sans Old South Arabian', 'Gujarati MT', 'Apple SD Gothic Neo', 'Noto Sans Lisu', 'Heiti TC', 'Charter', '.SF Compact', 'ITF Devanagari', 'PT Sans', 'Wingdings 2', 'Malayalam MN', 'Nadeem', 'Noto Sans Meroitic', 'Trattatello', 'STIXNonUnicode', 'Gurmukhi MT', 'Noto Sans Osmanya', 'STIXSizeFiveSym', 'Big Caslon', '.SF NS Mono', 'Noto Sans Samaritan', 'Impact'}\n"
     ]
    }
   ],
   "source": [
    "from matplotlib.font_manager import FontManager\n",
    "fm = FontManager()\n",
    "mat_fonts = set(f.name for f in fm.ttflist)\n",
    "print(mat_fonts)\n",
    "#然后找到能用的中文字体"
   ]
  },
  {
   "cell_type": "code",
   "execution_count": 162,
   "id": "aeee690d",
   "metadata": {},
   "outputs": [],
   "source": [
    "#法二    在有中文输出的地方，增加一个属性：fontproperties"
   ]
  },
  {
   "cell_type": "code",
   "execution_count": 163,
   "id": "58ddd4ae",
   "metadata": {},
   "outputs": [],
   "source": [
    "a = np.arange(0.0, 5.0, 0.02)"
   ]
  },
  {
   "cell_type": "code",
   "execution_count": 164,
   "id": "e89ea5d8",
   "metadata": {},
   "outputs": [
    {
     "data": {
      "image/png": "[encoded data removed]",
      "text/plain": [
       "<Figure size 432x288 with 1 Axes>"
      ]
     },
     "metadata": {
      "needs_background": "light"
     },
     "output_type": "display_data"
    }
   ],
   "source": [
    "plt.xlabel('试试',fontproperties = 'Heiti TC', fontsize = 20)\n",
    "plt.ylabel('试试就逝世',fontproperties = 'Heiti TC', fontsize = 20)\n",
    "plt.plot(a, np.cos(2*np.pi*a), 'g.-')    #green+'-.-.-'\n",
    "plt.show()"
   ]
  },
  {
   "cell_type": "markdown",
   "id": "f3c6312e",
   "metadata": {},
   "source": [
    "### pyplot文本显示函数"
   ]
  },
  {
   "cell_type": "markdown",
   "id": "a9ccb254",
   "metadata": {},
   "source": [
    " <font color='red'> ***plt.\\**** </font>"
   ]
  },
  {
   "cell_type": "markdown",
   "id": "dfb5a52d",
   "metadata": {},
   "source": [
    "- <font color = 'hotpink'> plt.xlabel(); plt.ylabel()</font>\n",
    "- <font color = 'hotpink'> plt.title() </font>\n",
    "- <font color = 'hotpink'> plt.text()  在任意位置增加文本 </font>\n",
    "- <font color = 'hotpink'> plt.annotate() 在图形中增加带箭头的注解</font>\n"
   ]
  },
  {
   "cell_type": "code",
   "execution_count": 165,
   "id": "25f7262b",
   "metadata": {},
   "outputs": [
    {
     "data": {
      "image/png": "[encoded data removed]",
      "text/plain": [
       "<Figure size 432x288 with 1 Axes>"
      ]
     },
     "metadata": {
      "needs_background": "light"
     },
     "output_type": "display_data"
    }
   ],
   "source": [
    "a = np.arange(0.0, 5.0, 0.02)\n",
    "plt.plot(a, np.cos(2*np.pi*a), 'lightblue') \n",
    "\n",
    "plt.xlabel('时间',fontproperties = 'Heiti TC', fontsize = 20)\n",
    "plt.ylabel('你猜这是什么',fontproperties = 'Heiti TC', fontsize = 20)\n",
    "# 标题直接用 r'中文 $func$'的时候，我的电脑字体会出错，所以改成 '中文' r'$func$'\n",
    "plt.title('正弦波 'r'$y = cos(2\\pi x)$', fontsize = 20)\n",
    "plt.annotate(r'$\\mu = 100$', xy = (2, 1), xytext = (3, 1.5),\n",
    "            arrowprops = dict(facecolor='black', shrink=0.1, width=1.5))\n",
    "# plt.annotate(s, xy=arrow_crd, xytext=text_crd, arrowprops=dict)\n",
    "# xy是箭头指的点，xytext是text放的位置，shrink越大箭头越短，width是箭头胖瘦\n",
    "plt.axis([-1, 6, -2, 2])  # x的范围 + y的范围\n",
    "plt.grid(True)    #加上网格\n",
    "plt.show()"
   ]
  },
  {
   "cell_type": "markdown",
   "id": "80df0125",
   "metadata": {},
   "source": [
    "## 子绘图区域"
   ]
  },
  {
   "cell_type": "markdown",
   "id": "d061b02f",
   "metadata": {},
   "source": [
    "### Subplot"
   ]
  },
  {
   "cell_type": "markdown",
   "id": "14ebfb71",
   "metadata": {},
   "source": [
    "- <font color='blueviolet'> **plt.subplot2grid ( GridSpec, CurSpec, colspan=1, rowspan=1)** </font> </br>\n",
    "<font color='blueviolet'> **设定网格，选中网格，确定选中行列区域数量，编号从0开始** </font>"
   ]
  },
  {
   "cell_type": "code",
   "execution_count": 166,
   "id": "dd3516e6",
   "metadata": {},
   "outputs": [
    {
     "data": {
      "text/plain": [
       "<AxesSubplot:>"
      ]
     },
     "execution_count": 166,
     "metadata": {},
     "output_type": "execute_result"
    },
    {
     "data": {
      "image/png": "[encoded data removed]",
      "text/plain": [
       "<Figure size 432x288 with 1 Axes>"
      ]
     },
     "metadata": {
      "needs_background": "light"
     },
     "output_type": "display_data"
    }
   ],
   "source": [
    "#将一个区域分割成3*3，选第1行第0列，colspan表示列的延伸，rowspan是行的延伸\n",
    "plt.subplot2grid((3,3), (1,0), colspan=2) #往右延伸"
   ]
  },
  {
   "cell_type": "code",
   "execution_count": 167,
   "id": "eae22867",
   "metadata": {},
   "outputs": [
    {
     "data": {
      "text/plain": [
       "<AxesSubplot:>"
      ]
     },
     "execution_count": 167,
     "metadata": {},
     "output_type": "execute_result"
    },
    {
     "data": {
      "image/png": "[encoded data removed]",
      "text/plain": [
       "<Figure size 432x288 with 1 Axes>"
      ]
     },
     "metadata": {
      "needs_background": "light"
     },
     "output_type": "display_data"
    }
   ],
   "source": [
    "plt.subplot2grid((3,3), (1,2), rowspan=2) #往下延伸"
   ]
  },
  {
   "cell_type": "code",
   "execution_count": 168,
   "id": "fd51d45d",
   "metadata": {},
   "outputs": [
    {
     "data": {
      "text/plain": [
       "<AxesSubplot:>"
      ]
     },
     "execution_count": 168,
     "metadata": {},
     "output_type": "execute_result"
    },
    {
     "data": {
      "image/png": "[encoded data removed]",
      "text/plain": [
       "<Figure size 432x288 with 1 Axes>"
      ]
     },
     "metadata": {
      "needs_background": "light"
     },
     "output_type": "display_data"
    }
   ],
   "source": [
    "plt.subplot2grid((3,3), (2,2), rowspan=2) #往下延伸没地方延伸了"
   ]
  },
  {
   "cell_type": "markdown",
   "id": "436db86a",
   "metadata": {},
   "source": [
    "### GridSpec类"
   ]
  },
  {
   "cell_type": "code",
   "execution_count": 169,
   "id": "29608454",
   "metadata": {},
   "outputs": [],
   "source": [
    "import matplotlib.gridspec as gridspec\n",
    "#不用每次都分割网格\n",
    "gs = gridspec.GridSpec(3,3)    #一次分完"
   ]
  },
  {
   "cell_type": "code",
   "execution_count": 170,
   "id": "78f5a80e",
   "metadata": {},
   "outputs": [
    {
     "data": {
      "image/png": "[encoded data removed]",
      "text/plain": [
       "<Figure size 432x288 with 1 Axes>"
      ]
     },
     "metadata": {
      "needs_background": "light"
     },
     "output_type": "display_data"
    }
   ],
   "source": [
    "ax1 = plt.subplot(gs[0,:])    #第0行都是它的了"
   ]
  },
  {
   "cell_type": "code",
   "execution_count": 171,
   "id": "42b6c062",
   "metadata": {},
   "outputs": [
    {
     "data": {
      "image/png": "[encoded data removed]",
      "text/plain": [
       "<Figure size 432x288 with 1 Axes>"
      ]
     },
     "metadata": {
      "needs_background": "light"
     },
     "output_type": "display_data"
    }
   ],
   "source": [
    "ax2 = plt.subplot(gs[1, :-1])    #行是第1行，列是一直到"
   ]
  },
  {
   "cell_type": "code",
   "execution_count": 172,
   "id": "61ccfb27",
   "metadata": {},
   "outputs": [
    {
     "data": {
      "image/png": "[encoded data removed]",
      "text/plain": [
       "<Figure size 432x288 with 1 Axes>"
      ]
     },
     "metadata": {
      "needs_background": "light"
     },
     "output_type": "display_data"
    }
   ],
   "source": [
    "ax3 = plt.subplot(gs[1:, -1])    #行是第1行开始到最后，列是最后1列"
   ]
  },
  {
   "cell_type": "markdown",
   "id": "5ab03872",
   "metadata": {},
   "source": [
    "## 饼图绘制"
   ]
  },
  {
   "cell_type": "code",
   "execution_count": 173,
   "id": "0615b36a",
   "metadata": {},
   "outputs": [],
   "source": [
    "labels = '我占45%','20%挺好的','10%吧','5?','okk剩下20%是我的了'\n",
    "sizes = [45, 20, 10, 5, 20]\n",
    "explode = (0, 0.1, 0, 0, 0)  #第二块披萨被切出来了，缝隙0.1"
   ]
  },
  {
   "cell_type": "code",
   "execution_count": 174,
   "id": "f94b2307",
   "metadata": {
    "scrolled": true
   },
   "outputs": [
    {
     "data": {
      "image/png": "[encoded data removed]",
      "text/plain": [
       "<Figure size 432x288 with 1 Axes>"
      ]
     },
     "metadata": {},
     "output_type": "display_data"
    }
   ],
   "source": [
    "plt.pie(sizes, explode = explode, labels = labels, autopct = '%1.1f%%',\n",
    "       shadow = False, startangle = 90)\n",
    "#shadow是True的话自带阴影效果\n",
    "#startangle 开始的角度（第一个占比右边那里开始，用平时画单位圆的角度方式）\n",
    "\n",
    "plt.show()"
   ]
  },
  {
   "cell_type": "code",
   "execution_count": 175,
   "id": "4aba86e8",
   "metadata": {},
   "outputs": [
    {
     "data": {
      "image/png": "[encoded data removed]",
      "text/plain": [
       "<Figure size 432x288 with 1 Axes>"
      ]
     },
     "metadata": {},
     "output_type": "display_data"
    }
   ],
   "source": [
    "labels = '我占45%','20%挺好的','10%吧','5?','okk剩下20%是我的了'\n",
    "sizes = [45, 20, 10, 5, 20]\n",
    "explode = (0, 0.1, 0, 0, 0)  \n",
    "plt.pie(sizes, explode = explode, labels = labels, autopct = '%1.1f%%',\n",
    "       shadow = False, startangle = 90)\n",
    "\n",
    "plt.axis('equal') #把饼图变成正圆形\n",
    "plt.show()"
   ]
  },
  {
   "cell_type": "markdown",
   "id": "26704577",
   "metadata": {},
   "source": [
    "## 直方图"
   ]
  },
  {
   "cell_type": "code",
   "execution_count": 176,
   "id": "34de2d96",
   "metadata": {},
   "outputs": [],
   "source": [
    "np.random.seed(0)\n",
    "mu, sigma = 100, 20   #正态分布均值和标准差\n",
    "a = np.random.normal(mu, sigma, size = 100)"
   ]
  },
  {
   "cell_type": "code",
   "execution_count": 177,
   "id": "39561fea",
   "metadata": {},
   "outputs": [
    {
     "data": {
      "image/png": "[encoded data removed]",
      "text/plain": [
       "<Figure size 432x288 with 1 Axes>"
      ]
     },
     "metadata": {
      "needs_background": "light"
     },
     "output_type": "display_data"
    }
   ],
   "source": [
    "plt.hist(a, 30, density = 1, \n",
    "         histtype='stepfilled', facecolor='b', alpha=0.75)\n",
    "#第2个参数：直方的个数；\n",
    "#第3个参数用normed报错：Polygon object has no property 'normed'，\n",
    "#换成density即可\n",
    "plt.title('正态分布直方图')\n",
    "         \n",
    "plt.show()"
   ]
  },
  {
   "cell_type": "markdown",
   "id": "3cd17679",
   "metadata": {},
   "source": [
    "## 极坐标"
   ]
  },
  {
   "cell_type": "code",
   "execution_count": 178,
   "id": "3497cd98",
   "metadata": {},
   "outputs": [
    {
     "data": {
      "text/plain": [
       "array([0.        , 0.31415927, 0.62831853, 0.9424778 , 1.25663706,\n",
       "       1.57079633, 1.88495559, 2.19911486, 2.51327412, 2.82743339,\n",
       "       3.14159265, 3.45575192, 3.76991118, 4.08407045, 4.39822972,\n",
       "       4.71238898, 5.02654825, 5.34070751, 5.65486678, 5.96902604])"
      ]
     },
     "execution_count": 178,
     "metadata": {},
     "output_type": "execute_result"
    }
   ],
   "source": [
    "N = 20\n",
    "theta = np.linspace(0.0, 2*np.pi, N, endpoint = False)\n",
    "radii = 10 * np.random.rand(N)\n",
    "width = np.pi/4 * np.random.rand(N) \n",
    "theta"
   ]
  },
  {
   "cell_type": "code",
   "execution_count": 179,
   "id": "10d3d9a5",
   "metadata": {},
   "outputs": [
    {
     "data": {
      "image/png": "[encoded data removed]",
      "text/plain": [
       "<Figure size 432x288 with 1 Axes>"
      ]
     },
     "metadata": {
      "needs_background": "light"
     },
     "output_type": "display_data"
    }
   ],
   "source": [
    "ax = plt.subplot(111, projection='polar') #面向对象\n",
    "bars = ax.bar(theta, radii, width=width, bottom=0.0)\n",
    "#前面三个参数分别对应极坐标的left,height,width\n",
    "#left: 颜色区域从哪里开始画\n",
    "#height: 中间向边缘绘制的长度\n",
    "#width: 每个绘图区区域面积\n",
    "# 调颜色"
   ]
  },
  {
   "cell_type": "code",
   "execution_count": 180,
   "id": "ca88f75e",
   "metadata": {},
   "outputs": [
    {
     "data": {
      "image/png": "[encoded data removed]",
      "text/plain": [
       "<Figure size 432x288 with 1 Axes>"
      ]
     },
     "metadata": {
      "needs_background": "light"
     },
     "output_type": "display_data"
    }
   ],
   "source": [
    "ax = plt.subplot(111, projection='polar') #面向对象\n",
    "bars = ax.bar(theta, radii, width=width, bottom=0.0)\n",
    "\n",
    "# 调颜色\n",
    "for r,bar in zip(radii, bars):\n",
    "    bar.set_facecolor(plt.cm.viridis(r/10.))#渐变色\n",
    "    bar.set_alpha(0.5)\n",
    "\n",
    "plt.show()\n",
    "#鬼知道为什么调色和原始的ax，bars分开来run会没反应"
   ]
  },
  {
   "cell_type": "markdown",
   "id": "fb2fafb4",
   "metadata": {},
   "source": [
    "## 散点图"
   ]
  },
  {
   "cell_type": "code",
   "execution_count": 181,
   "id": "07bdd6a8",
   "metadata": {},
   "outputs": [
    {
     "data": {
      "image/png": "[encoded data removed]",
      "text/plain": [
       "<Figure size 432x288 with 1 Axes>"
      ]
     },
     "metadata": {
      "needs_background": "light"
     },
     "output_type": "display_data"
    }
   ],
   "source": [
    "fig, ax = plt.subplots()  #默认 1,1\n",
    "ax.plot(10*np.random.randn(100), 10*np.random.randn(100),'o')\n",
    "ax.set_title('Simple Scatter')\n",
    "\n",
    "plt.show()"
   ]
  },
  {
   "cell_type": "code",
   "execution_count": 182,
   "id": "e656869d",
   "metadata": {},
   "outputs": [
    {
     "data": {
      "image/png": "[encoded data removed]",
      "text/plain": [
       "<Figure size 432x288 with 4 Axes>"
      ]
     },
     "metadata": {
      "needs_background": "light"
     },
     "output_type": "display_data"
    }
   ],
   "source": [
    "fig, ax = plt.subplots(2,2) \n",
    "#plt.subplots(nrows, ncols)\n",
    "ax[0][0].plot(10*np.random.randn(100), 10*np.random.randn(100),'o', c='lightgreen')\n",
    "ax[0][0].set_title('1')\n",
    "\n",
    "ax[1][0].plot(10*np.random.randn(100), 10*np.random.randn(100),'o', c='c')\n",
    "ax[1][0].set_title('2')\n",
    "\n",
    "ax[0][1].plot(10*np.random.randn(100), 10*np.random.randn(100),'o', c='orange')\n",
    "ax[0][1].set_title('3')\n",
    "\n",
    "ax[1][1].plot(10*np.random.randn(100), 10*np.random.randn(100),'o', c='pink')\n",
    "ax[1][1].set_title('4')\n",
    "\n",
    "#关于颜色：b——blue, c——cyan, g——green, k——black, m——magenta, r——red, w——white, y——yellow\n",
    "\n",
    "plt.show()"
   ]
  },
  {
   "cell_type": "markdown",
   "id": "f400028f",
   "metadata": {},
   "source": [
    "## 其他图"
   ]
  },
  {
   "cell_type": "code",
   "execution_count": null,
   "id": "678cb454",
   "metadata": {},
   "outputs": [],
   "source": []
  },
  {
   "cell_type": "markdown",
   "id": "2eb83a69",
   "metadata": {},
   "source": [
    "## 关于颜色"
   ]
  },
  {
   "cell_type": "code",
   "execution_count": 183,
   "id": "79c94c27",
   "metadata": {},
   "outputs": [
    {
     "data": {
      "image/png": "[encoded data removed]",
      "text/plain": [
       "<Figure size 432x288 with 18 Axes>"
      ]
     },
     "metadata": {
      "needs_background": "light"
     },
     "output_type": "display_data"
    },
    {
     "data": {
      "image/png": "[encoded data removed]",
      "text/plain": [
       "<Figure size 432x288 with 18 Axes>"
      ]
     },
     "metadata": {
      "needs_background": "light"
     },
     "output_type": "display_data"
    },
    {
     "data": {
      "image/png": "[encoded data removed]",
      "text/plain": [
       "<Figure size 432x288 with 18 Axes>"
      ]
     },
     "metadata": {
      "needs_background": "light"
     },
     "output_type": "display_data"
    },
    {
     "data": {
      "image/png": "[encoded data removed]",
      "text/plain": [
       "<Figure size 432x288 with 18 Axes>"
      ]
     },
     "metadata": {
      "needs_background": "light"
     },
     "output_type": "display_data"
    },
    {
     "data": {
      "image/png": "[encoded data removed]",
      "text/plain": [
       "<Figure size 432x288 with 18 Axes>"
      ]
     },
     "metadata": {
      "needs_background": "light"
     },
     "output_type": "display_data"
    },
    {
     "data": {
      "image/png": "[encoded data removed]",
      "text/plain": [
       "<Figure size 432x288 with 18 Axes>"
      ]
     },
     "metadata": {
      "needs_background": "light"
     },
     "output_type": "display_data"
    }
   ],
   "source": [
    "cmaps = [('Perceptually Uniform Sequential', [\n",
    "            'viridis', 'plasma', 'inferno', 'magma']),\n",
    "         ('Sequential', [\n",
    "            'Greys', 'Purples', 'Blues', 'Greens', 'Oranges', 'Reds',\n",
    "            'YlOrBr', 'YlOrRd', 'OrRd', 'PuRd', 'RdPu', 'BuPu',\n",
    "            'GnBu', 'PuBu', 'YlGnBu', 'PuBuGn', 'BuGn', 'YlGn']),\n",
    "         ('Sequential (2)', [\n",
    "            'binary', 'gist_yarg', 'gist_gray', 'gray', 'bone', 'pink',\n",
    "            'spring', 'summer', 'autumn', 'winter', 'cool', 'Wistia',\n",
    "            'hot', 'afmhot', 'gist_heat', 'copper']),\n",
    "         ('Diverging', [\n",
    "            'PiYG', 'PRGn', 'BrBG', 'PuOr', 'RdGy', 'RdBu',\n",
    "            'RdYlBu', 'RdYlGn', 'Spectral', 'coolwarm', 'bwr', 'seismic']),\n",
    "         ('Qualitative', [\n",
    "            'Pastel1', 'Pastel2', 'Paired', 'Accent',\n",
    "            'Dark2', 'Set1', 'Set2', 'Set3',\n",
    "            'tab10', 'tab20', 'tab20b', 'tab20c']),\n",
    "         ('Miscellaneous', [\n",
    "            'flag', 'prism', 'ocean', 'gist_earth', 'terrain', 'gist_stern',\n",
    "            'gnuplot', 'gnuplot2', 'CMRmap', 'cubehelix', 'brg', 'hsv',\n",
    "            'gist_rainbow', 'rainbow', 'jet', 'nipy_spectral', 'gist_ncar'])]\n",
    "\n",
    "nrows = max(len(cmap_list) for cmap_category, cmap_list in cmaps)\n",
    "gradient = np.linspace(0, 1, 256)\n",
    "gradient = np.vstack((gradient, gradient))\n",
    "\n",
    "def plot_color_gradients(cmap_category, cmap_list, nrows):\n",
    "    fig, axes = plt.subplots(nrows=nrows)\n",
    "    fig.subplots_adjust(top=0.95, bottom=0.01, left=0.2, right=0.99)\n",
    "    axes[0].set_title(cmap_category + ' colormaps', fontsize=14)\n",
    "\n",
    "    for ax, name in zip(axes, cmap_list):\n",
    "        ax.imshow(gradient, aspect='auto', cmap=plt.get_cmap(name))\n",
    "        pos = list(ax.get_position().bounds)\n",
    "        x_text = pos[0] - 0.01\n",
    "        y_text = pos[1] + pos[3]/2.\n",
    "        fig.text(x_text, y_text, name, va='center', ha='right', fontsize=10)\n",
    "\n",
    "    # Turn off *all* ticks & spines, not just the ones with colormaps.\n",
    "    for ax in axes:\n",
    "        ax.set_axis_off()\n",
    "\n",
    "for cmap_category, cmap_list in cmaps:\n",
    "    plot_color_gradients(cmap_category, cmap_list, nrows)\n",
    "\n",
    "plt.show()\n"
   ]
  },
  {
   "cell_type": "code",
   "execution_count": null,
   "id": "9f3b5995",
   "metadata": {},
   "outputs": [],
   "source": []
  },
  {
   "cell_type": "markdown",
   "id": "778b98a2",
   "metadata": {},
   "source": [
    "## 实例：引力波"
   ]
  },
  {
   "cell_type": "markdown",
   "id": "dd97575e",
   "metadata": {},
   "source": [
    "数据源：\n",
    "</br>http://python123.io/dv/grawave.html \n",
    "</br>http://python123.io/dv/H1_Strain.wav \n",
    "</br>http://python123.io/dv/L1_Strain.wav \n",
    "</br>http://python123.io/dv/wf_template.txt"
   ]
  },
  {
   "cell_type": "code",
   "execution_count": 184,
   "id": "ce258938",
   "metadata": {},
   "outputs": [],
   "source": [
    "import numpy as np\n",
    "import matplotlib.pyplot as plt\n",
    "from scipy.io import wavfile    #读取wav"
   ]
  },
  {
   "cell_type": "code",
   "execution_count": 185,
   "id": "cadbaf47",
   "metadata": {},
   "outputs": [],
   "source": [
    "rate_h, hstrain = wavfile.read(r\"/Users/ranjiang/gravityWave/H1_Strain.wav\", \"rb\")\n",
    "rate_l, lstrain = wavfile.read(r\"/Users/ranjiang/gravityWave/L1_Strain.wav\", \"rb\")\n",
    "#reftime, ref_H1 = np.genfromtxt('wf_template.txt').transpose"
   ]
  },
  {
   "cell_type": "markdown",
   "id": "a23a79e5",
   "metadata": {},
   "source": [
    "# Pandas"
   ]
  },
  {
   "cell_type": "markdown",
   "id": "ad661ff4",
   "metadata": {},
   "source": [
    "Pandas基于NumPy实现\n",
    "</br> NumPy:基础数据类型; Pandas:扩展数据类型\n",
    "</br> Pandas主要提供：\n",
    "- Series\n",
    "- DataFrame\n"
   ]
  },
  {
   "cell_type": "markdown",
   "id": "8bdb2460",
   "metadata": {},
   "source": [
    "## Series"
   ]
  },
  {
   "cell_type": "markdown",
   "id": "ecd88615",
   "metadata": {},
   "source": [
    "<font color = 'green'> Series类型由一组数据及与之相关的数据索引组成。它基于索引，而不是维度，所以它根据索引对齐。 </font>"
   ]
  },
  {
   "cell_type": "code",
   "execution_count": 186,
   "id": "f9c78cd2",
   "metadata": {},
   "outputs": [],
   "source": [
    "import pandas as pd"
   ]
  },
  {
   "cell_type": "code",
   "execution_count": 187,
   "id": "9f4d6bfc",
   "metadata": {},
   "outputs": [],
   "source": [
    "a = pd.Series([9, 8, 7, 6])"
   ]
  },
  {
   "cell_type": "code",
   "execution_count": 188,
   "id": "d579a7b9",
   "metadata": {},
   "outputs": [
    {
     "data": {
      "text/plain": [
       "0    9\n",
       "1    8\n",
       "2    7\n",
       "3    6\n",
       "dtype: int64"
      ]
     },
     "execution_count": 188,
     "metadata": {},
     "output_type": "execute_result"
    }
   ],
   "source": [
    "a"
   ]
  },
  {
   "cell_type": "code",
   "execution_count": 189,
   "id": "35056905",
   "metadata": {},
   "outputs": [],
   "source": [
    "#自定义索引\n",
    "b = pd.Series([9, 8, 7, 6], index = ['a', 'b', 'c', 'd'])"
   ]
  },
  {
   "cell_type": "code",
   "execution_count": 190,
   "id": "6fff0433",
   "metadata": {},
   "outputs": [
    {
     "data": {
      "text/plain": [
       "a    9\n",
       "b    8\n",
       "c    7\n",
       "d    6\n",
       "dtype: int64"
      ]
     },
     "execution_count": 190,
     "metadata": {},
     "output_type": "execute_result"
    }
   ],
   "source": [
    "b"
   ]
  },
  {
   "cell_type": "markdown",
   "id": "fe5a6773",
   "metadata": {},
   "source": [
    "<font color = 'green'> Series类型可以由如下类型创建：</font>\n",
    "</br> <font color = 'green'> - Python列表、字典 </font>\n",
    "</br> <font color = 'green'> - 标量值 </font>\n",
    "</br> <font color = 'green'> - ndarray </font>\n",
    "</br> <font color = 'green'> - 其他函数 </font>"
   ]
  },
  {
   "cell_type": "code",
   "execution_count": 191,
   "id": "f0dcf39d",
   "metadata": {},
   "outputs": [],
   "source": [
    "#标量值创建\n",
    "#不能省略index\n",
    "s = pd.Series(25, index = ['a', 'b', 'c'])"
   ]
  },
  {
   "cell_type": "code",
   "execution_count": 192,
   "id": "68e85134",
   "metadata": {},
   "outputs": [
    {
     "data": {
      "text/plain": [
       "a    25\n",
       "b    25\n",
       "c    25\n",
       "dtype: int64"
      ]
     },
     "execution_count": 192,
     "metadata": {},
     "output_type": "execute_result"
    }
   ],
   "source": [
    "s"
   ]
  },
  {
   "cell_type": "code",
   "execution_count": 193,
   "id": "79cf2a57",
   "metadata": {},
   "outputs": [],
   "source": [
    "#字典创建\n",
    "d = pd.Series({'a':\"困死了\",'b':\"想睡觉\",'c':\"好困啊\"})"
   ]
  },
  {
   "cell_type": "code",
   "execution_count": 194,
   "id": "589d4125",
   "metadata": {},
   "outputs": [
    {
     "data": {
      "text/plain": [
       "a    困死了\n",
       "b    想睡觉\n",
       "c    好困啊\n",
       "dtype: object"
      ]
     },
     "execution_count": 194,
     "metadata": {},
     "output_type": "execute_result"
    }
   ],
   "source": [
    "d"
   ]
  },
  {
   "cell_type": "code",
   "execution_count": 195,
   "id": "35ad4bfb",
   "metadata": {},
   "outputs": [],
   "source": [
    "e = pd.Series({'a':1,'b':2,'c':3}, \n",
    "             index = ['c', 'b', 'd', 'a'])"
   ]
  },
  {
   "cell_type": "code",
   "execution_count": 196,
   "id": "7b3175d3",
   "metadata": {},
   "outputs": [
    {
     "data": {
      "text/plain": [
       "c    3.0\n",
       "b    2.0\n",
       "d    NaN\n",
       "a    1.0\n",
       "dtype: float64"
      ]
     },
     "execution_count": 196,
     "metadata": {},
     "output_type": "execute_result"
    }
   ],
   "source": [
    "e  #对应的值还是用的字典，如果没有对应的值就是NAN"
   ]
  },
  {
   "cell_type": "code",
   "execution_count": 197,
   "id": "e9de1128",
   "metadata": {},
   "outputs": [],
   "source": [
    "#ndarray创建\n",
    "n = pd.Series(np.arange(3))"
   ]
  },
  {
   "cell_type": "code",
   "execution_count": 198,
   "id": "4bae44ae",
   "metadata": {},
   "outputs": [
    {
     "data": {
      "text/plain": [
       "0    0\n",
       "1    1\n",
       "2    2\n",
       "dtype: int64"
      ]
     },
     "execution_count": 198,
     "metadata": {},
     "output_type": "execute_result"
    }
   ],
   "source": [
    "n"
   ]
  },
  {
   "cell_type": "code",
   "execution_count": 199,
   "id": "4d34a1aa",
   "metadata": {},
   "outputs": [],
   "source": [
    "m = pd.Series(np.arange(5), index = np.arange(9,4,-1))\n",
    "#索引也是5个数，如果不一样多，会出错"
   ]
  },
  {
   "cell_type": "code",
   "execution_count": 200,
   "id": "e9a463d5",
   "metadata": {},
   "outputs": [
    {
     "data": {
      "text/plain": [
       "9    0\n",
       "8    1\n",
       "7    2\n",
       "6    3\n",
       "5    4\n",
       "dtype: int64"
      ]
     },
     "execution_count": 200,
     "metadata": {},
     "output_type": "execute_result"
    }
   ],
   "source": [
    "m"
   ]
  },
  {
   "cell_type": "markdown",
   "id": "67247860",
   "metadata": {},
   "source": [
    "<font color = 'green'> Series对象可以随时修改并即刻生效 </font>"
   ]
  },
  {
   "cell_type": "code",
   "execution_count": 201,
   "id": "988a940b",
   "metadata": {},
   "outputs": [
    {
     "data": {
      "text/plain": [
       "a    9\n",
       "b    8\n",
       "c    7\n",
       "d    6\n",
       "dtype: int64"
      ]
     },
     "execution_count": 201,
     "metadata": {},
     "output_type": "execute_result"
    }
   ],
   "source": [
    "b = pd.Series([9, 8, 7, 6], index = ['a', 'b', 'c', 'd'])\n",
    "b"
   ]
  },
  {
   "cell_type": "code",
   "execution_count": 202,
   "id": "d57f456e",
   "metadata": {},
   "outputs": [],
   "source": [
    "b.name = \"New Series\""
   ]
  },
  {
   "cell_type": "code",
   "execution_count": 203,
   "id": "3bc02dbc",
   "metadata": {},
   "outputs": [],
   "source": [
    "b['b', 'c'] = 20"
   ]
  },
  {
   "cell_type": "code",
   "execution_count": 204,
   "id": "3059577a",
   "metadata": {},
   "outputs": [
    {
     "data": {
      "text/plain": [
       "a     9\n",
       "b    20\n",
       "c    20\n",
       "d     6\n",
       "Name: New Series, dtype: int64"
      ]
     },
     "execution_count": 204,
     "metadata": {},
     "output_type": "execute_result"
    }
   ],
   "source": [
    "b"
   ]
  },
  {
   "cell_type": "code",
   "execution_count": 4,
   "id": "cf05fb05",
   "metadata": {},
   "outputs": [
    {
     "name": "stderr",
     "output_type": "stream",
     "text": [
      "UsageError: Line magic function `%cpaste` not found.\n"
     ]
    }
   ],
   "source": [
    "%cpaste"
   ]
  },
  {
   "cell_type": "code",
   "execution_count": null,
   "id": "dc666a17",
   "metadata": {},
   "outputs": [],
   "source": [
    "x = 5\n",
    "y = 7\n",
    "if x > 5:\n",
    "    x += 1\n",
    "    \n",
    "    y = 8"
   ]
  },
  {
   "cell_type": "code",
   "execution_count": null,
   "id": "f1fe9323",
   "metadata": {},
   "outputs": [],
   "source": []
  },
  {
   "cell_type": "code",
   "execution_count": null,
   "id": "db189abb",
   "metadata": {},
   "outputs": [],
   "source": []
  },
  {
   "cell_type": "code",
   "execution_count": null,
   "id": "27896ab2",
   "metadata": {},
   "outputs": [],
   "source": []
  },
  {
   "cell_type": "code",
   "execution_count": null,
   "id": "a4718bab",
   "metadata": {},
   "outputs": [],
   "source": []
  },
  {
   "cell_type": "code",
   "execution_count": null,
   "id": "2e22b80b",
   "metadata": {},
   "outputs": [],
   "source": []
  },
  {
   "cell_type": "code",
   "execution_count": null,
   "id": "7a3d4a6a",
   "metadata": {},
   "outputs": [],
   "source": []
  },
  {
   "cell_type": "code",
   "execution_count": null,
   "id": "4434fe20",
   "metadata": {},
   "outputs": [],
   "source": []
  },
  {
   "cell_type": "code",
   "execution_count": null,
   "id": "35d58d3e",
   "metadata": {},
   "outputs": [],
   "source": []
  },
  {
   "cell_type": "code",
   "execution_count": null,
   "id": "3134a2da",
   "metadata": {},
   "outputs": [],
   "source": []
  },
  {
   "cell_type": "code",
   "execution_count": null,
   "id": "db6f6ae1",
   "metadata": {},
   "outputs": [],
   "source": []
  },
  {
   "cell_type": "markdown",
   "id": "54232807",
   "metadata": {},
   "source": [
    "## DataFrame"
   ]
  },
  {
   "cell_type": "markdown",
   "id": "3fbe9a71",
   "metadata": {},
   "source": [
    "<font color = 'green'> DataFrame类型由共用相同索引的一组列组成。 </font>"
   ]
  },
  {
   "cell_type": "code",
   "execution_count": 205,
   "id": "024d2fd1",
   "metadata": {},
   "outputs": [],
   "source": [
    "#e.g.　                                             \n",
    "#         column   axis=1                           \n",
    "#       .------------------------------>\n",
    "#       |  index_0 --> data_a   data_1   ... \n",
    "#  index|  index_1 --> data_b   data_2   ... \n",
    "#       |  index_2 --> data_c   data_3   ... \n",
    "# axis=0|    .           .         . \n",
    "#       |    .           .         . \n",
    "#       v    .           .         .\n"
   ]
  },
  {
   "cell_type": "code",
   "execution_count": 206,
   "id": "54ea9842",
   "metadata": {},
   "outputs": [],
   "source": [
    "import pandas as pd\n",
    "import numpy as np"
   ]
  },
  {
   "cell_type": "code",
   "execution_count": 207,
   "id": "50998e05",
   "metadata": {},
   "outputs": [
    {
     "data": {
      "text/html": [
       "<div>\n",
       "<style scoped>\n",
       "    .dataframe tbody tr th:only-of-type {\n",
       "        vertical-align: middle;\n",
       "    }\n",
       "\n",
       "    .dataframe tbody tr th {\n",
       "        vertical-align: top;\n",
       "    }\n",
       "\n",
       "    .dataframe thead th {\n",
       "        text-align: right;\n",
       "    }\n",
       "</style>\n",
       "<table border=\"1\" class=\"dataframe\">\n",
       "  <thead>\n",
       "    <tr style=\"text-align: right;\">\n",
       "      <th></th>\n",
       "      <th>0</th>\n",
       "      <th>1</th>\n",
       "      <th>2</th>\n",
       "      <th>3</th>\n",
       "      <th>4</th>\n",
       "    </tr>\n",
       "  </thead>\n",
       "  <tbody>\n",
       "    <tr>\n",
       "      <th>0</th>\n",
       "      <td>0</td>\n",
       "      <td>1</td>\n",
       "      <td>2</td>\n",
       "      <td>3</td>\n",
       "      <td>4</td>\n",
       "    </tr>\n",
       "    <tr>\n",
       "      <th>1</th>\n",
       "      <td>5</td>\n",
       "      <td>6</td>\n",
       "      <td>7</td>\n",
       "      <td>8</td>\n",
       "      <td>9</td>\n",
       "    </tr>\n",
       "  </tbody>\n",
       "</table>\n",
       "</div>"
      ],
      "text/plain": [
       "   0  1  2  3  4\n",
       "0  0  1  2  3  4\n",
       "1  5  6  7  8  9"
      ]
     },
     "execution_count": 207,
     "metadata": {},
     "output_type": "execute_result"
    }
   ],
   "source": [
    "#二维ndarray对象创建\n",
    "pd.DataFrame(np.arange(10).reshape(2,5))\n",
    "#有自动索引"
   ]
  },
  {
   "cell_type": "code",
   "execution_count": 208,
   "id": "703221ee",
   "metadata": {},
   "outputs": [],
   "source": [
    "dt = {'数学分析':pd.Series([1,2,3], index = ['a','b','c']),\n",
    "      '睡觉':pd.Series([9,8,7,6], index = ['a','b','c','d'])}"
   ]
  },
  {
   "cell_type": "code",
   "execution_count": 209,
   "id": "31b99067",
   "metadata": {},
   "outputs": [],
   "source": [
    "d = pd.DataFrame(dt)"
   ]
  },
  {
   "cell_type": "code",
   "execution_count": 210,
   "id": "716a021e",
   "metadata": {},
   "outputs": [
    {
     "data": {
      "text/html": [
       "<div>\n",
       "<style scoped>\n",
       "    .dataframe tbody tr th:only-of-type {\n",
       "        vertical-align: middle;\n",
       "    }\n",
       "\n",
       "    .dataframe tbody tr th {\n",
       "        vertical-align: top;\n",
       "    }\n",
       "\n",
       "    .dataframe thead th {\n",
       "        text-align: right;\n",
       "    }\n",
       "</style>\n",
       "<table border=\"1\" class=\"dataframe\">\n",
       "  <thead>\n",
       "    <tr style=\"text-align: right;\">\n",
       "      <th></th>\n",
       "      <th>数学分析</th>\n",
       "      <th>睡觉</th>\n",
       "    </tr>\n",
       "  </thead>\n",
       "  <tbody>\n",
       "    <tr>\n",
       "      <th>a</th>\n",
       "      <td>1.0</td>\n",
       "      <td>9</td>\n",
       "    </tr>\n",
       "    <tr>\n",
       "      <th>b</th>\n",
       "      <td>2.0</td>\n",
       "      <td>8</td>\n",
       "    </tr>\n",
       "    <tr>\n",
       "      <th>c</th>\n",
       "      <td>3.0</td>\n",
       "      <td>7</td>\n",
       "    </tr>\n",
       "    <tr>\n",
       "      <th>d</th>\n",
       "      <td>NaN</td>\n",
       "      <td>6</td>\n",
       "    </tr>\n",
       "  </tbody>\n",
       "</table>\n",
       "</div>"
      ],
      "text/plain": [
       "   数学分析  睡觉\n",
       "a   1.0   9\n",
       "b   2.0   8\n",
       "c   3.0   7\n",
       "d   NaN   6"
      ]
     },
     "execution_count": 210,
     "metadata": {},
     "output_type": "execute_result"
    }
   ],
   "source": [
    "d"
   ]
  },
  {
   "cell_type": "code",
   "execution_count": 211,
   "id": "0ed4fa16",
   "metadata": {},
   "outputs": [
    {
     "data": {
      "text/html": [
       "<div>\n",
       "<style scoped>\n",
       "    .dataframe tbody tr th:only-of-type {\n",
       "        vertical-align: middle;\n",
       "    }\n",
       "\n",
       "    .dataframe tbody tr th {\n",
       "        vertical-align: top;\n",
       "    }\n",
       "\n",
       "    .dataframe thead th {\n",
       "        text-align: right;\n",
       "    }\n",
       "</style>\n",
       "<table border=\"1\" class=\"dataframe\">\n",
       "  <thead>\n",
       "    <tr style=\"text-align: right;\">\n",
       "      <th></th>\n",
       "      <th>睡觉</th>\n",
       "      <th>躺尸</th>\n",
       "    </tr>\n",
       "  </thead>\n",
       "  <tbody>\n",
       "    <tr>\n",
       "      <th>b</th>\n",
       "      <td>8</td>\n",
       "      <td>NaN</td>\n",
       "    </tr>\n",
       "    <tr>\n",
       "      <th>c</th>\n",
       "      <td>7</td>\n",
       "      <td>NaN</td>\n",
       "    </tr>\n",
       "    <tr>\n",
       "      <th>d</th>\n",
       "      <td>6</td>\n",
       "      <td>NaN</td>\n",
       "    </tr>\n",
       "  </tbody>\n",
       "</table>\n",
       "</div>"
      ],
      "text/plain": [
       "   睡觉   躺尸\n",
       "b   8  NaN\n",
       "c   7  NaN\n",
       "d   6  NaN"
      ]
     },
     "execution_count": 211,
     "metadata": {},
     "output_type": "execute_result"
    }
   ],
   "source": [
    "#一维ndarray对象字典创建\n",
    "pd.DataFrame(dt, index=['b','c','d'],columns=[\"睡觉\",\"躺尸\"])"
   ]
  },
  {
   "cell_type": "code",
   "execution_count": 212,
   "id": "d87c8b19",
   "metadata": {},
   "outputs": [
    {
     "name": "stdout",
     "output_type": "stream",
     "text": [
      "Using matplotlib backend: MacOSX\n"
     ]
    }
   ],
   "source": [
    "%matplotlib"
   ]
  },
  {
   "cell_type": "code",
   "execution_count": 213,
   "id": "df3df67c",
   "metadata": {},
   "outputs": [],
   "source": [
    "%matplotlib inline"
   ]
  },
  {
   "cell_type": "code",
   "execution_count": 214,
   "id": "4d4d04a4",
   "metadata": {},
   "outputs": [
    {
     "ename": "TypeError",
     "evalue": "'module' object is not callable",
     "output_type": "error",
     "traceback": [
      "\u001b[0;31m---------------------------------------------------------------------------\u001b[0m",
      "\u001b[0;31mTypeError\u001b[0m                                 Traceback (most recent call last)",
      "\u001b[0;32m/var/folders/ks/bmr_smnj09lfkr2_t02lcj2w0000gn/T/ipykernel_54157/3454744849.py\u001b[0m in \u001b[0;36m<module>\u001b[0;34m\u001b[0m\n\u001b[1;32m      1\u001b[0m \u001b[0;32mimport\u001b[0m \u001b[0mnumpy\u001b[0m \u001b[0;32mas\u001b[0m \u001b[0mnp\u001b[0m\u001b[0;34m\u001b[0m\u001b[0;34m\u001b[0m\u001b[0m\n\u001b[1;32m      2\u001b[0m \u001b[0;32mimport\u001b[0m \u001b[0mmatplotlib\u001b[0m\u001b[0;34m.\u001b[0m\u001b[0mpyplot\u001b[0m \u001b[0;32mas\u001b[0m \u001b[0mplt\u001b[0m\u001b[0;34m\u001b[0m\u001b[0;34m\u001b[0m\u001b[0m\n\u001b[0;32m----> 3\u001b[0;31m \u001b[0mplt\u001b[0m\u001b[0;34m.\u001b[0m\u001b[0mplot\u001b[0m\u001b[0;34m(\u001b[0m\u001b[0mnp\u001b[0m\u001b[0;34m.\u001b[0m\u001b[0mrandom\u001b[0m\u001b[0;34m(\u001b[0m\u001b[0;36m50\u001b[0m\u001b[0;34m)\u001b[0m\u001b[0;34m.\u001b[0m\u001b[0mcumsum\u001b[0m\u001b[0;34m(\u001b[0m\u001b[0;34m)\u001b[0m\u001b[0;34m)\u001b[0m\u001b[0;34m\u001b[0m\u001b[0;34m\u001b[0m\u001b[0m\n\u001b[0m",
      "\u001b[0;31mTypeError\u001b[0m: 'module' object is not callable"
     ]
    }
   ],
   "source": [
    "import numpy as np\n",
    "import matplotlib.pyplot as plt\n",
    "plt.plot(np.random(50).cumsum())"
   ]
  },
  {
   "cell_type": "code",
   "execution_count": null,
   "id": "664e394b",
   "metadata": {},
   "outputs": [],
   "source": [
    "import numpy as np\n"
   ]
  }
 ],
 "metadata": {
  "celltoolbar": "无",
  "kernelspec": {
   "display_name": "Python 3 (ipykernel)",
   "language": "python",
   "name": "python3"
  },
  "language_info": {
   "codemirror_mode": {
    "name": "ipython",
    "version": 3
   },
   "file_extension": ".py",
   "mimetype": "text/x-python",
   "name": "python",
   "nbconvert_exporter": "python",
   "pygments_lexer": "ipython3",
   "version": "3.9.7"
  }
 },
 "nbformat": 4,
 "nbformat_minor": 5
}
